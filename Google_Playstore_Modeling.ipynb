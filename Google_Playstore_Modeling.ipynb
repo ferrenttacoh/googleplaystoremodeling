{
  "cells": [
    {
      "cell_type": "markdown",
      "metadata": {
        "id": "iKtQNdY-J-b7"
      },
      "source": [
        "# **Sentiment Analysis**"
      ]
    },
    {
      "cell_type": "markdown",
      "metadata": {
        "id": "LxFdm8j-MtC1"
      },
      "source": [
        "# Library"
      ]
    },
    {
      "cell_type": "code",
      "execution_count": 1,
      "metadata": {
        "id": "ub846_6eJxla"
      },
      "outputs": [],
      "source": [
        "import numpy as np # Untuk Komputasi Numerik\n",
        "import pandas as pd # Untuk Manipulasi Data\n",
        "import matplotlib.pyplot as plt # Untuk Memvisualisasikan Data\n",
        "import seaborn as sns # Untuk Memvisualisasikan Data\n",
        "import warnings\n",
        "warnings.filterwarnings(\"ignore\") # Untuk Mengabaikan Warnings"
      ]
    },
    {
      "cell_type": "markdown",
      "metadata": {
        "id": "607Ji1nVNAaD"
      },
      "source": [
        "# Load Data"
      ]
    },
    {
      "cell_type": "code",
      "execution_count": 2,
      "metadata": {
        "colab": {
          "base_uri": "https://localhost:8080/",
          "height": 0
        },
        "id": "vvSkZ5k5l-0g",
        "outputId": "80928195-d3a4-4319-9ab2-4900b1894484"
      },
      "outputs": [
        {
          "output_type": "stream",
          "name": "stdout",
          "text": [
            "Mounted at /content/drive\n"
          ]
        }
      ],
      "source": [
        "from google.colab import drive\n",
        "drive.mount('/content/drive')"
      ]
    },
    {
      "cell_type": "code",
      "execution_count": 3,
      "metadata": {
        "colab": {
          "base_uri": "https://localhost:8080/",
          "height": 617
        },
        "id": "KPv0pm-EKI3v",
        "outputId": "424eb6a9-0762-40ee-8eeb-047d566cc79d"
      },
      "outputs": [
        {
          "output_type": "execute_result",
          "data": {
            "text/plain": [
              "                     App                                  Translated_Review  \\\n",
              "0  10 Best Foods for You  I like eat delicious food. That's I'm cooking ...   \n",
              "1  10 Best Foods for You    This help eating healthy exercise regular basis   \n",
              "2  10 Best Foods for You                                                NaN   \n",
              "3  10 Best Foods for You         Works great especially going grocery store   \n",
              "4  10 Best Foods for You                                       Best idea us   \n",
              "\n",
              "  Sentiment  Sentiment_Polarity  Sentiment_Subjectivity  \n",
              "0  Positive                1.00                0.533333  \n",
              "1  Positive                0.25                0.288462  \n",
              "2       NaN                 NaN                     NaN  \n",
              "3  Positive                0.40                0.875000  \n",
              "4  Positive                1.00                0.300000  "
            ],
            "text/html": [
              "\n",
              "  <div id=\"df-46015cea-2e48-43fb-9fa3-f327404a72b6\">\n",
              "    <div class=\"colab-df-container\">\n",
              "      <div>\n",
              "<style scoped>\n",
              "    .dataframe tbody tr th:only-of-type {\n",
              "        vertical-align: middle;\n",
              "    }\n",
              "\n",
              "    .dataframe tbody tr th {\n",
              "        vertical-align: top;\n",
              "    }\n",
              "\n",
              "    .dataframe thead th {\n",
              "        text-align: right;\n",
              "    }\n",
              "</style>\n",
              "<table border=\"1\" class=\"dataframe\">\n",
              "  <thead>\n",
              "    <tr style=\"text-align: right;\">\n",
              "      <th></th>\n",
              "      <th>App</th>\n",
              "      <th>Translated_Review</th>\n",
              "      <th>Sentiment</th>\n",
              "      <th>Sentiment_Polarity</th>\n",
              "      <th>Sentiment_Subjectivity</th>\n",
              "    </tr>\n",
              "  </thead>\n",
              "  <tbody>\n",
              "    <tr>\n",
              "      <th>0</th>\n",
              "      <td>10 Best Foods for You</td>\n",
              "      <td>I like eat delicious food. That's I'm cooking ...</td>\n",
              "      <td>Positive</td>\n",
              "      <td>1.00</td>\n",
              "      <td>0.533333</td>\n",
              "    </tr>\n",
              "    <tr>\n",
              "      <th>1</th>\n",
              "      <td>10 Best Foods for You</td>\n",
              "      <td>This help eating healthy exercise regular basis</td>\n",
              "      <td>Positive</td>\n",
              "      <td>0.25</td>\n",
              "      <td>0.288462</td>\n",
              "    </tr>\n",
              "    <tr>\n",
              "      <th>2</th>\n",
              "      <td>10 Best Foods for You</td>\n",
              "      <td>NaN</td>\n",
              "      <td>NaN</td>\n",
              "      <td>NaN</td>\n",
              "      <td>NaN</td>\n",
              "    </tr>\n",
              "    <tr>\n",
              "      <th>3</th>\n",
              "      <td>10 Best Foods for You</td>\n",
              "      <td>Works great especially going grocery store</td>\n",
              "      <td>Positive</td>\n",
              "      <td>0.40</td>\n",
              "      <td>0.875000</td>\n",
              "    </tr>\n",
              "    <tr>\n",
              "      <th>4</th>\n",
              "      <td>10 Best Foods for You</td>\n",
              "      <td>Best idea us</td>\n",
              "      <td>Positive</td>\n",
              "      <td>1.00</td>\n",
              "      <td>0.300000</td>\n",
              "    </tr>\n",
              "  </tbody>\n",
              "</table>\n",
              "</div>\n",
              "      <button class=\"colab-df-convert\" onclick=\"convertToInteractive('df-46015cea-2e48-43fb-9fa3-f327404a72b6')\"\n",
              "              title=\"Convert this dataframe to an interactive table.\"\n",
              "              style=\"display:none;\">\n",
              "        \n",
              "  <svg xmlns=\"http://www.w3.org/2000/svg\" height=\"24px\"viewBox=\"0 0 24 24\"\n",
              "       width=\"24px\">\n",
              "    <path d=\"M0 0h24v24H0V0z\" fill=\"none\"/>\n",
              "    <path d=\"M18.56 5.44l.94 2.06.94-2.06 2.06-.94-2.06-.94-.94-2.06-.94 2.06-2.06.94zm-11 1L8.5 8.5l.94-2.06 2.06-.94-2.06-.94L8.5 2.5l-.94 2.06-2.06.94zm10 10l.94 2.06.94-2.06 2.06-.94-2.06-.94-.94-2.06-.94 2.06-2.06.94z\"/><path d=\"M17.41 7.96l-1.37-1.37c-.4-.4-.92-.59-1.43-.59-.52 0-1.04.2-1.43.59L10.3 9.45l-7.72 7.72c-.78.78-.78 2.05 0 2.83L4 21.41c.39.39.9.59 1.41.59.51 0 1.02-.2 1.41-.59l7.78-7.78 2.81-2.81c.8-.78.8-2.07 0-2.86zM5.41 20L4 18.59l7.72-7.72 1.47 1.35L5.41 20z\"/>\n",
              "  </svg>\n",
              "      </button>\n",
              "      \n",
              "  <style>\n",
              "    .colab-df-container {\n",
              "      display:flex;\n",
              "      flex-wrap:wrap;\n",
              "      gap: 12px;\n",
              "    }\n",
              "\n",
              "    .colab-df-convert {\n",
              "      background-color: #E8F0FE;\n",
              "      border: none;\n",
              "      border-radius: 50%;\n",
              "      cursor: pointer;\n",
              "      display: none;\n",
              "      fill: #1967D2;\n",
              "      height: 32px;\n",
              "      padding: 0 0 0 0;\n",
              "      width: 32px;\n",
              "    }\n",
              "\n",
              "    .colab-df-convert:hover {\n",
              "      background-color: #E2EBFA;\n",
              "      box-shadow: 0px 1px 2px rgba(60, 64, 67, 0.3), 0px 1px 3px 1px rgba(60, 64, 67, 0.15);\n",
              "      fill: #174EA6;\n",
              "    }\n",
              "\n",
              "    [theme=dark] .colab-df-convert {\n",
              "      background-color: #3B4455;\n",
              "      fill: #D2E3FC;\n",
              "    }\n",
              "\n",
              "    [theme=dark] .colab-df-convert:hover {\n",
              "      background-color: #434B5C;\n",
              "      box-shadow: 0px 1px 3px 1px rgba(0, 0, 0, 0.15);\n",
              "      filter: drop-shadow(0px 1px 2px rgba(0, 0, 0, 0.3));\n",
              "      fill: #FFFFFF;\n",
              "    }\n",
              "  </style>\n",
              "\n",
              "      <script>\n",
              "        const buttonEl =\n",
              "          document.querySelector('#df-46015cea-2e48-43fb-9fa3-f327404a72b6 button.colab-df-convert');\n",
              "        buttonEl.style.display =\n",
              "          google.colab.kernel.accessAllowed ? 'block' : 'none';\n",
              "\n",
              "        async function convertToInteractive(key) {\n",
              "          const element = document.querySelector('#df-46015cea-2e48-43fb-9fa3-f327404a72b6');\n",
              "          const dataTable =\n",
              "            await google.colab.kernel.invokeFunction('convertToInteractive',\n",
              "                                                     [key], {});\n",
              "          if (!dataTable) return;\n",
              "\n",
              "          const docLinkHtml = 'Like what you see? Visit the ' +\n",
              "            '<a target=\"_blank\" href=https://colab.research.google.com/notebooks/data_table.ipynb>data table notebook</a>'\n",
              "            + ' to learn more about interactive tables.';\n",
              "          element.innerHTML = '';\n",
              "          dataTable['output_type'] = 'display_data';\n",
              "          await google.colab.output.renderOutput(dataTable, element);\n",
              "          const docLink = document.createElement('div');\n",
              "          docLink.innerHTML = docLinkHtml;\n",
              "          element.appendChild(docLink);\n",
              "        }\n",
              "      </script>\n",
              "    </div>\n",
              "  </div>\n",
              "  "
            ]
          },
          "metadata": {},
          "execution_count": 3
        }
      ],
      "source": [
        "df = pd.read_csv(\"/content/drive/MyDrive/TA NLP/googleplaystore_user_reviews.csv\")\n",
        "df.head()"
      ]
    },
    {
      "cell_type": "code",
      "execution_count": 4,
      "metadata": {
        "colab": {
          "base_uri": "https://localhost:8080/",
          "height": 0
        },
        "id": "dtfHJpK-OIXf",
        "outputId": "350d0a5e-e65f-4e4d-b979-a4719947a369"
      },
      "outputs": [
        {
          "output_type": "execute_result",
          "data": {
            "text/plain": [
              "(64295, 5)"
            ]
          },
          "metadata": {},
          "execution_count": 4
        }
      ],
      "source": [
        "df.shape"
      ]
    },
    {
      "cell_type": "markdown",
      "metadata": {
        "id": "Ed7Y8dQ1NkbU"
      },
      "source": [
        "Dari semua kolom yang ada, data yang diperlukan hanyalah kolom Translated_Review dan kolom Sentiment. Untuk itu kolom yang lain akan di drop atau dihilangkan. Bisa menggunakan **.drop** atau bisa menggunakan cara **.concat** kolom Translated_Review dan Kolom Sentiment."
      ]
    },
    {
      "cell_type": "code",
      "execution_count": 5,
      "metadata": {
        "colab": {
          "base_uri": "https://localhost:8080/",
          "height": 206
        },
        "id": "zUDW0OA2KoRT",
        "outputId": "8baf1d1f-c660-4ad8-da29-780812628f61"
      },
      "outputs": [
        {
          "output_type": "execute_result",
          "data": {
            "text/plain": [
              "                                   Translated_Review Sentiment\n",
              "0  I like eat delicious food. That's I'm cooking ...  Positive\n",
              "1    This help eating healthy exercise regular basis  Positive\n",
              "2                                                NaN       NaN\n",
              "3         Works great especially going grocery store  Positive\n",
              "4                                       Best idea us  Positive"
            ],
            "text/html": [
              "\n",
              "  <div id=\"df-9df57e51-dfbb-4573-ad63-16dd99c372db\">\n",
              "    <div class=\"colab-df-container\">\n",
              "      <div>\n",
              "<style scoped>\n",
              "    .dataframe tbody tr th:only-of-type {\n",
              "        vertical-align: middle;\n",
              "    }\n",
              "\n",
              "    .dataframe tbody tr th {\n",
              "        vertical-align: top;\n",
              "    }\n",
              "\n",
              "    .dataframe thead th {\n",
              "        text-align: right;\n",
              "    }\n",
              "</style>\n",
              "<table border=\"1\" class=\"dataframe\">\n",
              "  <thead>\n",
              "    <tr style=\"text-align: right;\">\n",
              "      <th></th>\n",
              "      <th>Translated_Review</th>\n",
              "      <th>Sentiment</th>\n",
              "    </tr>\n",
              "  </thead>\n",
              "  <tbody>\n",
              "    <tr>\n",
              "      <th>0</th>\n",
              "      <td>I like eat delicious food. That's I'm cooking ...</td>\n",
              "      <td>Positive</td>\n",
              "    </tr>\n",
              "    <tr>\n",
              "      <th>1</th>\n",
              "      <td>This help eating healthy exercise regular basis</td>\n",
              "      <td>Positive</td>\n",
              "    </tr>\n",
              "    <tr>\n",
              "      <th>2</th>\n",
              "      <td>NaN</td>\n",
              "      <td>NaN</td>\n",
              "    </tr>\n",
              "    <tr>\n",
              "      <th>3</th>\n",
              "      <td>Works great especially going grocery store</td>\n",
              "      <td>Positive</td>\n",
              "    </tr>\n",
              "    <tr>\n",
              "      <th>4</th>\n",
              "      <td>Best idea us</td>\n",
              "      <td>Positive</td>\n",
              "    </tr>\n",
              "  </tbody>\n",
              "</table>\n",
              "</div>\n",
              "      <button class=\"colab-df-convert\" onclick=\"convertToInteractive('df-9df57e51-dfbb-4573-ad63-16dd99c372db')\"\n",
              "              title=\"Convert this dataframe to an interactive table.\"\n",
              "              style=\"display:none;\">\n",
              "        \n",
              "  <svg xmlns=\"http://www.w3.org/2000/svg\" height=\"24px\"viewBox=\"0 0 24 24\"\n",
              "       width=\"24px\">\n",
              "    <path d=\"M0 0h24v24H0V0z\" fill=\"none\"/>\n",
              "    <path d=\"M18.56 5.44l.94 2.06.94-2.06 2.06-.94-2.06-.94-.94-2.06-.94 2.06-2.06.94zm-11 1L8.5 8.5l.94-2.06 2.06-.94-2.06-.94L8.5 2.5l-.94 2.06-2.06.94zm10 10l.94 2.06.94-2.06 2.06-.94-2.06-.94-.94-2.06-.94 2.06-2.06.94z\"/><path d=\"M17.41 7.96l-1.37-1.37c-.4-.4-.92-.59-1.43-.59-.52 0-1.04.2-1.43.59L10.3 9.45l-7.72 7.72c-.78.78-.78 2.05 0 2.83L4 21.41c.39.39.9.59 1.41.59.51 0 1.02-.2 1.41-.59l7.78-7.78 2.81-2.81c.8-.78.8-2.07 0-2.86zM5.41 20L4 18.59l7.72-7.72 1.47 1.35L5.41 20z\"/>\n",
              "  </svg>\n",
              "      </button>\n",
              "      \n",
              "  <style>\n",
              "    .colab-df-container {\n",
              "      display:flex;\n",
              "      flex-wrap:wrap;\n",
              "      gap: 12px;\n",
              "    }\n",
              "\n",
              "    .colab-df-convert {\n",
              "      background-color: #E8F0FE;\n",
              "      border: none;\n",
              "      border-radius: 50%;\n",
              "      cursor: pointer;\n",
              "      display: none;\n",
              "      fill: #1967D2;\n",
              "      height: 32px;\n",
              "      padding: 0 0 0 0;\n",
              "      width: 32px;\n",
              "    }\n",
              "\n",
              "    .colab-df-convert:hover {\n",
              "      background-color: #E2EBFA;\n",
              "      box-shadow: 0px 1px 2px rgba(60, 64, 67, 0.3), 0px 1px 3px 1px rgba(60, 64, 67, 0.15);\n",
              "      fill: #174EA6;\n",
              "    }\n",
              "\n",
              "    [theme=dark] .colab-df-convert {\n",
              "      background-color: #3B4455;\n",
              "      fill: #D2E3FC;\n",
              "    }\n",
              "\n",
              "    [theme=dark] .colab-df-convert:hover {\n",
              "      background-color: #434B5C;\n",
              "      box-shadow: 0px 1px 3px 1px rgba(0, 0, 0, 0.15);\n",
              "      filter: drop-shadow(0px 1px 2px rgba(0, 0, 0, 0.3));\n",
              "      fill: #FFFFFF;\n",
              "    }\n",
              "  </style>\n",
              "\n",
              "      <script>\n",
              "        const buttonEl =\n",
              "          document.querySelector('#df-9df57e51-dfbb-4573-ad63-16dd99c372db button.colab-df-convert');\n",
              "        buttonEl.style.display =\n",
              "          google.colab.kernel.accessAllowed ? 'block' : 'none';\n",
              "\n",
              "        async function convertToInteractive(key) {\n",
              "          const element = document.querySelector('#df-9df57e51-dfbb-4573-ad63-16dd99c372db');\n",
              "          const dataTable =\n",
              "            await google.colab.kernel.invokeFunction('convertToInteractive',\n",
              "                                                     [key], {});\n",
              "          if (!dataTable) return;\n",
              "\n",
              "          const docLinkHtml = 'Like what you see? Visit the ' +\n",
              "            '<a target=\"_blank\" href=https://colab.research.google.com/notebooks/data_table.ipynb>data table notebook</a>'\n",
              "            + ' to learn more about interactive tables.';\n",
              "          element.innerHTML = '';\n",
              "          dataTable['output_type'] = 'display_data';\n",
              "          await google.colab.output.renderOutput(dataTable, element);\n",
              "          const docLink = document.createElement('div');\n",
              "          docLink.innerHTML = docLinkHtml;\n",
              "          element.appendChild(docLink);\n",
              "        }\n",
              "      </script>\n",
              "    </div>\n",
              "  </div>\n",
              "  "
            ]
          },
          "metadata": {},
          "execution_count": 5
        }
      ],
      "source": [
        "df2 = df.drop(['App', 'Sentiment_Polarity', 'Sentiment_Subjectivity'], axis=1)\n",
        "df2.head()"
      ]
    },
    {
      "cell_type": "code",
      "execution_count": 6,
      "metadata": {
        "colab": {
          "base_uri": "https://localhost:8080/",
          "height": 0
        },
        "id": "VtnVcgKDMHiT",
        "outputId": "ce48df62-3d12-44b0-aaaa-c1d56a9dd7c6"
      },
      "outputs": [
        {
          "output_type": "execute_result",
          "data": {
            "text/plain": [
              "(64295, 2)"
            ]
          },
          "metadata": {},
          "execution_count": 6
        }
      ],
      "source": [
        "df2.shape"
      ]
    },
    {
      "cell_type": "markdown",
      "metadata": {
        "id": "RYrx9vJHOzrK"
      },
      "source": [
        "Mengecek apabila ada sejumlah missing value dengan **.isnull()** atau bisa juga menggunakan **isna()**"
      ]
    },
    {
      "cell_type": "code",
      "execution_count": 7,
      "metadata": {
        "colab": {
          "base_uri": "https://localhost:8080/",
          "height": 0
        },
        "id": "S9n-IYROKuA7",
        "outputId": "6cf3629e-cd03-4055-fe82-71b8180c4f30"
      },
      "outputs": [
        {
          "output_type": "execute_result",
          "data": {
            "text/plain": [
              "Translated_Review    26868\n",
              "Sentiment            26863\n",
              "dtype: int64"
            ]
          },
          "metadata": {},
          "execution_count": 7
        }
      ],
      "source": [
        "df2.isnull().sum()"
      ]
    },
    {
      "cell_type": "markdown",
      "metadata": {
        "id": "_87r63lYPeh6"
      },
      "source": [
        "Drop kolom yang kosong dengan **.dropna()** dan cek jumlahnya kembali menggunakan **.shape**"
      ]
    },
    {
      "cell_type": "code",
      "execution_count": 8,
      "metadata": {
        "id": "oOVjbzeJK2x6"
      },
      "outputs": [],
      "source": [
        "df2.dropna(axis=0,inplace=True)"
      ]
    },
    {
      "cell_type": "code",
      "execution_count": 9,
      "metadata": {
        "colab": {
          "base_uri": "https://localhost:8080/",
          "height": 0
        },
        "id": "RPZuyTMnK8Da",
        "outputId": "c15f520e-beb5-433f-e83f-9d379402ffa0"
      },
      "outputs": [
        {
          "output_type": "execute_result",
          "data": {
            "text/plain": [
              "(37427, 2)"
            ]
          },
          "metadata": {},
          "execution_count": 9
        }
      ],
      "source": [
        "df2.shape"
      ]
    },
    {
      "cell_type": "markdown",
      "source": [
        "Karena Google Colab mempunyai limitasi, maka dari itu drop sejumlah baris untuk mempermudah tahapan processing dan modeling"
      ],
      "metadata": {
        "id": "fETCMBnpEgW5"
      }
    },
    {
      "cell_type": "code",
      "source": [
        "df2.drop(df2.index[4000:28000], axis=0, inplace=True)\n",
        "df2"
      ],
      "metadata": {
        "colab": {
          "base_uri": "https://localhost:8080/",
          "height": 424
        },
        "id": "cQRK_PRFkv75",
        "outputId": "e8d9c213-d572-4278-b2da-9a64bf6aeab0"
      },
      "execution_count": 10,
      "outputs": [
        {
          "output_type": "execute_result",
          "data": {
            "text/plain": [
              "                                       Translated_Review Sentiment\n",
              "0      I like eat delicious food. That's I'm cooking ...  Positive\n",
              "1        This help eating healthy exercise regular basis  Positive\n",
              "3             Works great especially going grocery store  Positive\n",
              "4                                           Best idea us  Positive\n",
              "5                                               Best way  Positive\n",
              "...                                                  ...       ...\n",
              "64222  Most ads older many agents ..not much owner po...  Positive\n",
              "64223  If photos posted portal load, fit purpose. I'm...  Positive\n",
              "64226  Dumb app, I wanted post property rent give opt...  Negative\n",
              "64227  I property business got link SMS happy perform...  Positive\n",
              "64230  Useless app, I searched flats kondapur, Hydera...  Negative\n",
              "\n",
              "[13427 rows x 2 columns]"
            ],
            "text/html": [
              "\n",
              "  <div id=\"df-5a296825-3cef-4a07-8946-f144f4ff9ccb\">\n",
              "    <div class=\"colab-df-container\">\n",
              "      <div>\n",
              "<style scoped>\n",
              "    .dataframe tbody tr th:only-of-type {\n",
              "        vertical-align: middle;\n",
              "    }\n",
              "\n",
              "    .dataframe tbody tr th {\n",
              "        vertical-align: top;\n",
              "    }\n",
              "\n",
              "    .dataframe thead th {\n",
              "        text-align: right;\n",
              "    }\n",
              "</style>\n",
              "<table border=\"1\" class=\"dataframe\">\n",
              "  <thead>\n",
              "    <tr style=\"text-align: right;\">\n",
              "      <th></th>\n",
              "      <th>Translated_Review</th>\n",
              "      <th>Sentiment</th>\n",
              "    </tr>\n",
              "  </thead>\n",
              "  <tbody>\n",
              "    <tr>\n",
              "      <th>0</th>\n",
              "      <td>I like eat delicious food. That's I'm cooking ...</td>\n",
              "      <td>Positive</td>\n",
              "    </tr>\n",
              "    <tr>\n",
              "      <th>1</th>\n",
              "      <td>This help eating healthy exercise regular basis</td>\n",
              "      <td>Positive</td>\n",
              "    </tr>\n",
              "    <tr>\n",
              "      <th>3</th>\n",
              "      <td>Works great especially going grocery store</td>\n",
              "      <td>Positive</td>\n",
              "    </tr>\n",
              "    <tr>\n",
              "      <th>4</th>\n",
              "      <td>Best idea us</td>\n",
              "      <td>Positive</td>\n",
              "    </tr>\n",
              "    <tr>\n",
              "      <th>5</th>\n",
              "      <td>Best way</td>\n",
              "      <td>Positive</td>\n",
              "    </tr>\n",
              "    <tr>\n",
              "      <th>...</th>\n",
              "      <td>...</td>\n",
              "      <td>...</td>\n",
              "    </tr>\n",
              "    <tr>\n",
              "      <th>64222</th>\n",
              "      <td>Most ads older many agents ..not much owner po...</td>\n",
              "      <td>Positive</td>\n",
              "    </tr>\n",
              "    <tr>\n",
              "      <th>64223</th>\n",
              "      <td>If photos posted portal load, fit purpose. I'm...</td>\n",
              "      <td>Positive</td>\n",
              "    </tr>\n",
              "    <tr>\n",
              "      <th>64226</th>\n",
              "      <td>Dumb app, I wanted post property rent give opt...</td>\n",
              "      <td>Negative</td>\n",
              "    </tr>\n",
              "    <tr>\n",
              "      <th>64227</th>\n",
              "      <td>I property business got link SMS happy perform...</td>\n",
              "      <td>Positive</td>\n",
              "    </tr>\n",
              "    <tr>\n",
              "      <th>64230</th>\n",
              "      <td>Useless app, I searched flats kondapur, Hydera...</td>\n",
              "      <td>Negative</td>\n",
              "    </tr>\n",
              "  </tbody>\n",
              "</table>\n",
              "<p>13427 rows × 2 columns</p>\n",
              "</div>\n",
              "      <button class=\"colab-df-convert\" onclick=\"convertToInteractive('df-5a296825-3cef-4a07-8946-f144f4ff9ccb')\"\n",
              "              title=\"Convert this dataframe to an interactive table.\"\n",
              "              style=\"display:none;\">\n",
              "        \n",
              "  <svg xmlns=\"http://www.w3.org/2000/svg\" height=\"24px\"viewBox=\"0 0 24 24\"\n",
              "       width=\"24px\">\n",
              "    <path d=\"M0 0h24v24H0V0z\" fill=\"none\"/>\n",
              "    <path d=\"M18.56 5.44l.94 2.06.94-2.06 2.06-.94-2.06-.94-.94-2.06-.94 2.06-2.06.94zm-11 1L8.5 8.5l.94-2.06 2.06-.94-2.06-.94L8.5 2.5l-.94 2.06-2.06.94zm10 10l.94 2.06.94-2.06 2.06-.94-2.06-.94-.94-2.06-.94 2.06-2.06.94z\"/><path d=\"M17.41 7.96l-1.37-1.37c-.4-.4-.92-.59-1.43-.59-.52 0-1.04.2-1.43.59L10.3 9.45l-7.72 7.72c-.78.78-.78 2.05 0 2.83L4 21.41c.39.39.9.59 1.41.59.51 0 1.02-.2 1.41-.59l7.78-7.78 2.81-2.81c.8-.78.8-2.07 0-2.86zM5.41 20L4 18.59l7.72-7.72 1.47 1.35L5.41 20z\"/>\n",
              "  </svg>\n",
              "      </button>\n",
              "      \n",
              "  <style>\n",
              "    .colab-df-container {\n",
              "      display:flex;\n",
              "      flex-wrap:wrap;\n",
              "      gap: 12px;\n",
              "    }\n",
              "\n",
              "    .colab-df-convert {\n",
              "      background-color: #E8F0FE;\n",
              "      border: none;\n",
              "      border-radius: 50%;\n",
              "      cursor: pointer;\n",
              "      display: none;\n",
              "      fill: #1967D2;\n",
              "      height: 32px;\n",
              "      padding: 0 0 0 0;\n",
              "      width: 32px;\n",
              "    }\n",
              "\n",
              "    .colab-df-convert:hover {\n",
              "      background-color: #E2EBFA;\n",
              "      box-shadow: 0px 1px 2px rgba(60, 64, 67, 0.3), 0px 1px 3px 1px rgba(60, 64, 67, 0.15);\n",
              "      fill: #174EA6;\n",
              "    }\n",
              "\n",
              "    [theme=dark] .colab-df-convert {\n",
              "      background-color: #3B4455;\n",
              "      fill: #D2E3FC;\n",
              "    }\n",
              "\n",
              "    [theme=dark] .colab-df-convert:hover {\n",
              "      background-color: #434B5C;\n",
              "      box-shadow: 0px 1px 3px 1px rgba(0, 0, 0, 0.15);\n",
              "      filter: drop-shadow(0px 1px 2px rgba(0, 0, 0, 0.3));\n",
              "      fill: #FFFFFF;\n",
              "    }\n",
              "  </style>\n",
              "\n",
              "      <script>\n",
              "        const buttonEl =\n",
              "          document.querySelector('#df-5a296825-3cef-4a07-8946-f144f4ff9ccb button.colab-df-convert');\n",
              "        buttonEl.style.display =\n",
              "          google.colab.kernel.accessAllowed ? 'block' : 'none';\n",
              "\n",
              "        async function convertToInteractive(key) {\n",
              "          const element = document.querySelector('#df-5a296825-3cef-4a07-8946-f144f4ff9ccb');\n",
              "          const dataTable =\n",
              "            await google.colab.kernel.invokeFunction('convertToInteractive',\n",
              "                                                     [key], {});\n",
              "          if (!dataTable) return;\n",
              "\n",
              "          const docLinkHtml = 'Like what you see? Visit the ' +\n",
              "            '<a target=\"_blank\" href=https://colab.research.google.com/notebooks/data_table.ipynb>data table notebook</a>'\n",
              "            + ' to learn more about interactive tables.';\n",
              "          element.innerHTML = '';\n",
              "          dataTable['output_type'] = 'display_data';\n",
              "          await google.colab.output.renderOutput(dataTable, element);\n",
              "          const docLink = document.createElement('div');\n",
              "          docLink.innerHTML = docLinkHtml;\n",
              "          element.appendChild(docLink);\n",
              "        }\n",
              "      </script>\n",
              "    </div>\n",
              "  </div>\n",
              "  "
            ]
          },
          "metadata": {},
          "execution_count": 10
        }
      ]
    },
    {
      "cell_type": "markdown",
      "metadata": {
        "id": "A9PRyAhsP3sU"
      },
      "source": [
        "# Data Visualization"
      ]
    },
    {
      "cell_type": "markdown",
      "metadata": {
        "id": "C2AQg3OEP77S"
      },
      "source": [
        "Adapun label dari kolom target sentiment dari data yang dimiliki adalah:\n",
        "* Positive\n",
        "* Neutral\n",
        "* Negative"
      ]
    },
    {
      "cell_type": "code",
      "execution_count": 11,
      "metadata": {
        "colab": {
          "base_uri": "https://localhost:8080/",
          "height": 0
        },
        "id": "-_Zw0-1mK_Ri",
        "outputId": "e61faba0-4355-4f6a-e1e2-42c82ab4e912"
      },
      "outputs": [
        {
          "output_type": "execute_result",
          "data": {
            "text/plain": [
              "Positive    8674\n",
              "Negative    2893\n",
              "Neutral     1860\n",
              "Name: Sentiment, dtype: int64"
            ]
          },
          "metadata": {},
          "execution_count": 11
        }
      ],
      "source": [
        "df2['Sentiment'].value_counts()"
      ]
    },
    {
      "cell_type": "code",
      "execution_count": 12,
      "metadata": {
        "colab": {
          "base_uri": "https://localhost:8080/",
          "height": 313
        },
        "id": "7fpVQhIYLjAs",
        "outputId": "7af6849f-f047-446d-8ce3-b2c1b2aab649"
      },
      "outputs": [
        {
          "output_type": "execute_result",
          "data": {
            "text/plain": [
              "Text(0.5, 1.0, 'Sentiments Accumulations in each class')"
            ]
          },
          "metadata": {},
          "execution_count": 12
        },
        {
          "output_type": "display_data",
          "data": {
            "text/plain": [
              "<Figure size 432x288 with 1 Axes>"
            ],
            "image/png": "[encoded data removed]"
          },
          "metadata": {
            "needs_background": "light"
          }
        }
      ],
      "source": [
        "#visualisasi\n",
        "import matplotlib.pyplot as plt\n",
        "import seaborn as sns\n",
        "sns.countplot(df2.Sentiment, palette=['#4fb443',\"#d9b42c\", \"#de061a\"])\n",
        "plt.title(\"Sentiments Accumulations in each class\")"
      ]
    },
    {
      "cell_type": "code",
      "execution_count": 13,
      "metadata": {
        "id": "uDA5bxKlLBxb"
      },
      "outputs": [],
      "source": [
        "df2.Sentiment=[0 if i==\"Positive\" \n",
        "               else 1 \n",
        "               if i== \"Negative\" \n",
        "               else 2 \n",
        "               for i in df2.Sentiment]"
      ]
    },
    {
      "cell_type": "code",
      "source": [
        "#visualisasi\n",
        "import matplotlib.pyplot as plt\n",
        "import seaborn as sns\n",
        "sns.countplot(df2.Sentiment, palette=['#4fb443', \"#de061a\", \"#d9b42c\"])\n",
        "plt.title(\"Sentiments Accumulations in each class\")"
      ],
      "metadata": {
        "colab": {
          "base_uri": "https://localhost:8080/",
          "height": 313
        },
        "id": "te0bPItX1ww4",
        "outputId": "acb043dd-f34d-4cfb-f6f3-a299299818b2"
      },
      "execution_count": 14,
      "outputs": [
        {
          "output_type": "execute_result",
          "data": {
            "text/plain": [
              "Text(0.5, 1.0, 'Sentiments Accumulations in each class')"
            ]
          },
          "metadata": {},
          "execution_count": 14
        },
        {
          "output_type": "display_data",
          "data": {
            "text/plain": [
              "<Figure size 432x288 with 1 Axes>"
            ],
            "image/png": "[encoded data removed]"
          },
          "metadata": {
            "needs_background": "light"
          }
        }
      ]
    },
    {
      "cell_type": "markdown",
      "metadata": {
        "id": "XvtfawOJQh7t"
      },
      "source": [
        "# Text Preprocessing"
      ]
    },
    {
      "cell_type": "markdown",
      "metadata": {
        "id": "sizHmLW5UYq3"
      },
      "source": [
        "## Lowercase and Removing"
      ]
    },
    {
      "cell_type": "code",
      "execution_count": 15,
      "metadata": {
        "colab": {
          "base_uri": "https://localhost:8080/",
          "height": 53
        },
        "id": "xcdjqPPZLqVz",
        "outputId": "483423bd-56e2-4c54-e77c-ac40d1b8cc1d"
      },
      "outputs": [
        {
          "output_type": "execute_result",
          "data": {
            "text/plain": [
              "'I like eat delicious food. That\\'s I\\'m cooking food myself, case \"10 Best Foods\" helps lot, also \"Best Before (Shelf Life)\"'"
            ],
            "application/vnd.google.colaboratory.intrinsic+json": {
              "type": "string"
            }
          },
          "metadata": {},
          "execution_count": 15
        }
      ],
      "source": [
        "df2.Translated_Review[0]"
      ]
    },
    {
      "cell_type": "code",
      "execution_count": 16,
      "metadata": {
        "id": "x7vxD_w6MgQC"
      },
      "outputs": [],
      "source": [
        "import re\n",
        "txt = df2.Translated_Review[0]\n",
        "text=re.sub(\"[^a-zA-Z]\",\" \",txt) #mengganti setiap karakter selain huruf, dengan spasi\n",
        "text=text.lower()"
      ]
    },
    {
      "cell_type": "code",
      "execution_count": 17,
      "metadata": {
        "colab": {
          "base_uri": "https://localhost:8080/",
          "height": 53
        },
        "id": "VXBPVJrnNAo9",
        "outputId": "73375ebd-f123-40d7-fe93-5fb01571811b"
      },
      "outputs": [
        {
          "output_type": "execute_result",
          "data": {
            "text/plain": [
              "'i like eat delicious food  that s i m cooking food myself  case     best foods  helps lot  also  best before  shelf life  '"
            ],
            "application/vnd.google.colaboratory.intrinsic+json": {
              "type": "string"
            }
          },
          "metadata": {},
          "execution_count": 17
        }
      ],
      "source": [
        "text"
      ]
    },
    {
      "cell_type": "markdown",
      "metadata": {
        "id": "ZTirbPSNNT9c"
      },
      "source": [
        "## Tokenizing & Stopwords"
      ]
    },
    {
      "cell_type": "code",
      "execution_count": 20,
      "metadata": {
        "colab": {
          "base_uri": "https://localhost:8080/",
          "height": 0
        },
        "id": "kHmNVPIPmprT",
        "outputId": "11a1ecf7-06b0-4218-9704-9b327bd9c7e0"
      },
      "outputs": [
        {
          "output_type": "stream",
          "name": "stdout",
          "text": [
            "[nltk_data] Downloading package punkt to /root/nltk_data...\n",
            "[nltk_data]   Unzipping tokenizers/punkt.zip.\n"
          ]
        },
        {
          "output_type": "execute_result",
          "data": {
            "text/plain": [
              "True"
            ]
          },
          "metadata": {},
          "execution_count": 20
        }
      ],
      "source": [
        "nltk.download('punkt')"
      ]
    },
    {
      "cell_type": "code",
      "execution_count": 21,
      "metadata": {
        "colab": {
          "base_uri": "https://localhost:8080/",
          "height": 0
        },
        "id": "BLaHQOBgmseR",
        "outputId": "18755eb9-f701-4cb4-d17b-49b5d11dd17b"
      },
      "outputs": [
        {
          "output_type": "stream",
          "name": "stdout",
          "text": [
            "[nltk_data] Downloading package stopwords to /root/nltk_data...\n",
            "[nltk_data]   Unzipping corpora/stopwords.zip.\n"
          ]
        },
        {
          "output_type": "execute_result",
          "data": {
            "text/plain": [
              "True"
            ]
          },
          "metadata": {},
          "execution_count": 21
        }
      ],
      "source": [
        "nltk.download('stopwords')"
      ]
    },
    {
      "cell_type": "code",
      "execution_count": 22,
      "metadata": {
        "id": "EjNeC8L2NV1_"
      },
      "outputs": [],
      "source": [
        "import nltk\n",
        "\n",
        "from nltk.corpus import stopwords \n",
        "text=nltk.word_tokenize(text) # pisahkan kata dengan word_tokenize"
      ]
    },
    {
      "cell_type": "code",
      "execution_count": 23,
      "metadata": {
        "colab": {
          "base_uri": "https://localhost:8080/",
          "height": 0
        },
        "id": "yb8xH8zINqTB",
        "outputId": "b7130cdc-5b04-4735-bd8c-d1bd36cbbcea"
      },
      "outputs": [
        {
          "output_type": "execute_result",
          "data": {
            "text/plain": [
              "22"
            ]
          },
          "metadata": {},
          "execution_count": 23
        }
      ],
      "source": [
        "len(text)"
      ]
    },
    {
      "cell_type": "code",
      "execution_count": 25,
      "metadata": {
        "colab": {
          "base_uri": "https://localhost:8080/",
          "height": 0
        },
        "id": "bYWK44xJNsbh",
        "outputId": "4777e210-95b5-4440-8000-9d7d8634c49b"
      },
      "outputs": [
        {
          "output_type": "execute_result",
          "data": {
            "text/plain": [
              "['i',\n",
              " 'like',\n",
              " 'eat',\n",
              " 'delicious',\n",
              " 'food',\n",
              " 'that',\n",
              " 's',\n",
              " 'i',\n",
              " 'm',\n",
              " 'cooking',\n",
              " 'food',\n",
              " 'myself',\n",
              " 'case',\n",
              " 'best',\n",
              " 'foods',\n",
              " 'helps',\n",
              " 'lot',\n",
              " 'also',\n",
              " 'best',\n",
              " 'before',\n",
              " 'shelf',\n",
              " 'life']"
            ]
          },
          "metadata": {},
          "execution_count": 25
        }
      ],
      "source": [
        "text"
      ]
    },
    {
      "cell_type": "code",
      "execution_count": 26,
      "metadata": {
        "id": "5ecFfoYeNzN0"
      },
      "outputs": [],
      "source": [
        "text = [w for w in text if not w in stopwords.words('english')]"
      ]
    },
    {
      "cell_type": "code",
      "execution_count": 27,
      "metadata": {
        "colab": {
          "base_uri": "https://localhost:8080/",
          "height": 0
        },
        "id": "h4VyEFUxN35T",
        "outputId": "92c821db-7674-4456-9650-d88bf649494c"
      },
      "outputs": [
        {
          "output_type": "execute_result",
          "data": {
            "text/plain": [
              "15"
            ]
          },
          "metadata": {},
          "execution_count": 27
        }
      ],
      "source": [
        "len(text)"
      ]
    },
    {
      "cell_type": "markdown",
      "metadata": {
        "id": "GPg0wfXLN_gr"
      },
      "source": [
        "## Lemmatization"
      ]
    },
    {
      "cell_type": "code",
      "execution_count": 28,
      "metadata": {
        "colab": {
          "base_uri": "https://localhost:8080/",
          "height": 0
        },
        "id": "2Ub9kUltm7mH",
        "outputId": "d4d18745-afee-483d-b146-c12bc5a863ae"
      },
      "outputs": [
        {
          "output_type": "stream",
          "name": "stdout",
          "text": [
            "[nltk_data] Downloading package wordnet to /root/nltk_data...\n",
            "[nltk_data]   Unzipping corpora/wordnet.zip.\n"
          ]
        },
        {
          "output_type": "execute_result",
          "data": {
            "text/plain": [
              "True"
            ]
          },
          "metadata": {},
          "execution_count": 28
        }
      ],
      "source": [
        "nltk.download('wordnet')"
      ]
    },
    {
      "cell_type": "code",
      "execution_count": 29,
      "metadata": {
        "colab": {
          "base_uri": "https://localhost:8080/",
          "height": 53
        },
        "id": "iIihvbqIOB25",
        "outputId": "650df40a-0251-4f6f-f8d1-37d388a1dadb"
      },
      "outputs": [
        {
          "output_type": "execute_result",
          "data": {
            "text/plain": [
              "'like eat delicious food cooking food case best food help lot also best shelf life'"
            ],
            "application/vnd.google.colaboratory.intrinsic+json": {
              "type": "string"
            }
          },
          "metadata": {},
          "execution_count": 29
        }
      ],
      "source": [
        "import nltk as nlp\n",
        "lemma=nlp.WordNetLemmatizer()\n",
        "text=[lemma.lemmatize(i) for i in text]\n",
        "text=\" \".join(text)\n",
        "text"
      ]
    },
    {
      "cell_type": "code",
      "execution_count": 30,
      "metadata": {
        "id": "S-7DRKQDON5C"
      },
      "outputs": [],
      "source": [
        "text_list=[]\n",
        "for i in df2.Translated_Review:\n",
        "    text=re.sub(\"[^a-zA-Z]\",\n",
        "                \" \",\n",
        "                i)\n",
        "    text=text.lower()\n",
        "    text=nltk.word_tokenize(text)\n",
        "    text = [w for w in text if not w in stopwords.words('english')]\n",
        "    lemma=nlp.WordNetLemmatizer()\n",
        "    text=[lemma.lemmatize(word) for word in text]\n",
        "    text=\" \".join(text)\n",
        "    text_list.append(text)"
      ]
    },
    {
      "cell_type": "code",
      "execution_count": 31,
      "metadata": {
        "colab": {
          "base_uri": "https://localhost:8080/",
          "height": 0
        },
        "id": "2Gw7i2GXQAPC",
        "outputId": "796ef77c-2812-43a7-f97b-2c375eacac47"
      },
      "outputs": [
        {
          "output_type": "execute_result",
          "data": {
            "text/plain": [
              "['like eat delicious food cooking food case best food help lot also best shelf life',\n",
              " 'help eating healthy exercise regular basis',\n",
              " 'work great especially going grocery store',\n",
              " 'best idea u',\n",
              " 'best way',\n",
              " 'amazing',\n",
              " 'looking forward app',\n",
              " 'helpful site help food get',\n",
              " 'good',\n",
              " 'useful information amount spelling error question validity information shared fixed star given',\n",
              " 'thank great app add arthritis eye immunity kidney liver detox food please',\n",
              " 'greatest ever completely awesome maintain health must ppl love',\n",
              " 'good health good health first priority',\n",
              " 'health important world either life think',\n",
              " 'mr sunita bhati thankful developer make kind app really good healthy food body',\n",
              " 'useful diabetes age need control sugar thanks',\n",
              " 'one greatest apps',\n",
              " 'good nice',\n",
              " 'healthy really helped',\n",
              " 'god health',\n",
              " 'health always top priority mysg',\n",
              " 'excellent useful',\n",
              " 'found lot wealth form health',\n",
              " 'found important',\n",
              " 'healthy eating',\n",
              " 'good simply good',\n",
              " 'test',\n",
              " 'good',\n",
              " 'thanks advice downloaded adobe reader still get recipe book',\n",
              " 'recipe book unable recipe book',\n",
              " 'absolutely fabulous phenomenal',\n",
              " 'great love food',\n",
              " 'excellent really work',\n",
              " 'best',\n",
              " 'wealth information informative easy understand ad middle page interupted read update ad comment objection ad literally position ad smack dab middle new spartphones apps didnt know click eveything saw full review',\n",
              " 'description good',\n",
              " 'great app love',\n",
              " 'good',\n",
              " 'loved helpful',\n",
              " 'good healthy food',\n",
              " 'waste time need internet time n ask call information',\n",
              " 'best thing lost ten lb two month help tip',\n",
              " 'ten best food promote good health good health essential long healthy lifestyle make habit eat food promote good health eat fruit veggie every day',\n",
              " 'healthy food really good information eat healthy',\n",
              " 'mom dad important thing good share',\n",
              " 'big thanks d got bst gd health',\n",
              " 'lovely best everyone need',\n",
              " 'love lost pound far',\n",
              " 'like',\n",
              " 'thanks helpful app',\n",
              " 'good food really good eat',\n",
              " 'thanks thank u much',\n",
              " 'love really good',\n",
              " 'helpful',\n",
              " 'love',\n",
              " 'useful',\n",
              " 'great love',\n",
              " 'informative',\n",
              " 'luv',\n",
              " 'great',\n",
              " 'wonderful',\n",
              " 'work zero',\n",
              " 'weight loss bad',\n",
              " 'best food u excellent chose food',\n",
              " 'needed',\n",
              " 'faltu plz waste ur time',\n",
              " 'best food thank recipe book',\n",
              " 'love good',\n",
              " 'like superb',\n",
              " 'good v good',\n",
              " 'healthy',\n",
              " 'quick read',\n",
              " 'great idea',\n",
              " 'good',\n",
              " 'cool',\n",
              " 'good',\n",
              " 'good',\n",
              " 'best best',\n",
              " 'great great',\n",
              " 'food list easy predibetic scared dr said potato rice bread never told could eat supplied paperwork stating thing could happen tell get work thank calming awesome app get',\n",
              " 'great wife wife enjoy much kinda person like follow health diet spending much time front pc find appropriate diet food found magnificent app thank thumb',\n",
              " 'great interesting useful application like',\n",
              " 'crap work',\n",
              " 'starr download',\n",
              " 'like helpful',\n",
              " 'nice super get',\n",
              " 'nice nice collection',\n",
              " 'wow',\n",
              " 'interesting interesting info think worth storage space phone rather research computer print list neat idea make life easier provide entertainment expect app',\n",
              " 'luv simple easy understand well thought follow step step problem see result also luv apps give food choice look like foundation keep good work',\n",
              " 'good good u net connection u play app much good',\n",
              " 'awesome resource begin new journey see great result',\n",
              " 'boring thought actually text poor old text',\n",
              " 'love app give way good idea buying store eating daily basis',\n",
              " 'great really best unique provides detailed information food nutritious staying healthy hat developer giving free',\n",
              " 'nothing special could find anything useful',\n",
              " 'ok love ok',\n",
              " 'like eat delicious food cooking food case best food help lot also best shelf life',\n",
              " 'help eating healthy exercise regular basis',\n",
              " 'work great especially going grocery store',\n",
              " 'best idea u',\n",
              " 'best way',\n",
              " 'amazing',\n",
              " 'looking forward app',\n",
              " 'helpful site help food get',\n",
              " 'good',\n",
              " 'useful information amount spelling error question validity information shared fixed star given',\n",
              " 'thank great app add arthritis eye immunity kidney liver detox food please',\n",
              " 'greatest ever completely awesome maintain health must ppl love',\n",
              " 'good health good health first priority',\n",
              " 'health important world either life think',\n",
              " 'mr sunita bhati thankful developer make kind app really good healthy food body',\n",
              " 'useful diabetes age need control sugar thanks',\n",
              " 'one greatest apps',\n",
              " 'good nice',\n",
              " 'healthy really helped',\n",
              " 'god health',\n",
              " 'health always top priority mysg',\n",
              " 'excellent useful',\n",
              " 'found lot wealth form health',\n",
              " 'found important',\n",
              " 'healthy eating',\n",
              " 'good simply good',\n",
              " 'test',\n",
              " 'good',\n",
              " 'thanks advice downloaded adobe reader still get recipe book',\n",
              " 'recipe book unable recipe book',\n",
              " 'absolutely fabulous phenomenal',\n",
              " 'great love food',\n",
              " 'excellent really work',\n",
              " 'best',\n",
              " 'wealth information informative easy understand ad middle page interupted read update ad comment objection ad literally position ad smack dab middle new spartphones apps didnt know click eveything saw full review',\n",
              " 'description good',\n",
              " 'great app love',\n",
              " 'good',\n",
              " 'loved helpful',\n",
              " 'good healthy food',\n",
              " 'waste time need internet time n ask call information',\n",
              " 'best thing lost ten lb two month help tip',\n",
              " 'ten best food promote good health good health essential long healthy lifestyle make habit eat food promote good health eat fruit veggie every day',\n",
              " 'healthy food really good information eat healthy',\n",
              " 'mom dad important thing good share',\n",
              " 'big thanks d got bst gd health',\n",
              " 'lovely best everyone need',\n",
              " 'love lost pound far',\n",
              " 'like',\n",
              " 'thanks helpful app',\n",
              " 'good food really good eat',\n",
              " 'thanks thank u much',\n",
              " 'love really good',\n",
              " 'helpful',\n",
              " 'love',\n",
              " 'useful',\n",
              " 'great love',\n",
              " 'informative',\n",
              " 'luv',\n",
              " 'great',\n",
              " 'wonderful',\n",
              " 'work zero',\n",
              " 'weight loss bad',\n",
              " 'best food u excellent chose food',\n",
              " 'needed',\n",
              " 'faltu plz waste ur time',\n",
              " 'best food thank recipe book',\n",
              " 'love good',\n",
              " 'like superb',\n",
              " 'good v good',\n",
              " 'healthy',\n",
              " 'quick read',\n",
              " 'great idea',\n",
              " 'good',\n",
              " 'cool',\n",
              " 'good',\n",
              " 'good',\n",
              " 'best best',\n",
              " 'great great',\n",
              " 'food list easy predibetic scared dr said potato rice bread never told could eat supplied paperwork stating thing could happen tell get work thank calming awesome app get',\n",
              " 'great wife wife enjoy much kinda person like follow health diet spending much time front pc find appropriate diet food found magnificent app thank thumb',\n",
              " 'great interesting useful application like',\n",
              " 'crap work',\n",
              " 'starr download',\n",
              " 'like helpful',\n",
              " 'nice super get',\n",
              " 'nice nice collection',\n",
              " 'wow',\n",
              " 'interesting interesting info think worth storage space phone rather research computer print list neat idea make life easier provide entertainment expect app',\n",
              " 'luv simple easy understand well thought follow step step problem see result also luv apps give food choice look like foundation keep good work',\n",
              " 'good good u net connection u play app much good',\n",
              " 'awesome resource begin new journey see great result',\n",
              " 'boring thought actually text poor old text',\n",
              " 'love app give way good idea buying store eating daily basis',\n",
              " 'great really best unique provides detailed information food nutritious staying healthy hat developer giving free',\n",
              " 'nothing special could find anything useful',\n",
              " 'ok love ok',\n",
              " 'great',\n",
              " 'nice',\n",
              " 'almost mobile phone',\n",
              " 'effective efficient convenient find available job keep good work power job search',\n",
              " 'easy intuitive',\n",
              " 'good searching job internship',\n",
              " 'bad price little bit expensive',\n",
              " 'easy use',\n",
              " 'job search result io e g security',\n",
              " 'easy',\n",
              " 'well also largest human bank taiwan please app ui',\n",
              " 'great',\n",
              " '',\n",
              " 'useful',\n",
              " 'helpful',\n",
              " 'good job hunt',\n",
              " 'easy use',\n",
              " 'nice',\n",
              " 'good find job easily',\n",
              " 'good meet good',\n",
              " 'awesomeee',\n",
              " 'english version',\n",
              " 'operation interface information content richer also better use utility without flashing back',\n",
              " 'nice',\n",
              " 'development method completed early day computer web version mobile app function seems short function page example similar work function similar company app version',\n",
              " 'better suited possibly somebody understands pitfall modern technology',\n",
              " 'useful handy terminal mobile device ui ux improved',\n",
              " 'job hunt amazing easy use thanx guy',\n",
              " 'convenient easy using many large corporation',\n",
              " 'easy use interface',\n",
              " 'easy simple easy use',\n",
              " 'easy found job',\n",
              " 'great',\n",
              " 'useful useful chinese difficult people read chinese add english language useful',\n",
              " 'selling phone number completing resume minute hit mobile phone including nanshan life insurance',\n",
              " 'helpful easy user friendly brilliant app',\n",
              " 'good helpful',\n",
              " 'good convenient easy use beautiful good',\n",
              " 'ok',\n",
              " 'nice',\n",
              " 'horrible id verification',\n",
              " 'easy even basic korean searching english usually bring result product shipped overseas best search korean',\n",
              " 'cool',\n",
              " 'collect month refund said would call month',\n",
              " 'top bar missing newest update hard shop search',\n",
              " 'nothing missing',\n",
              " 'refund take long day still received money crazy',\n",
              " 'enjoying online shopping via st app perfect',\n",
              " 'good enough',\n",
              " 'switching gmarket twice st new face',\n",
              " 'forced full screen popups',\n",
              " 'sound like want clear chrome pay android user pay chrome error fix app really true makgeolli',\n",
              " 'ok',\n",
              " 'trying update every time stall still difficult search tired seeing category category benefit getting le le',\n",
              " 'try far good',\n",
              " 'icon name strange updating',\n",
              " 'com skplanet syruppay cardrecognizedlib',\n",
              " 'nice',\n",
              " 'best shop',\n",
              " 'forgot password get new',\n",
              " 'best',\n",
              " 'love',\n",
              " 'force update',\n",
              " '',\n",
              " 'love nature',\n",
              " 'language barrier understand korea want english',\n",
              " 'shipping view flexible view make right come',\n",
              " 'point want give point shortage clicked internet address could find product popped th avenue app automatically turned automatically abducted use internet app',\n",
              " 'five star nice',\n",
              " 'forced termination severe try view detailed information forcibly terminated',\n",
              " 'open market revolution section helo ship open market mobile service still many page area served mobile service interface also urgent level page loading understand limit source control product information provided seller chronic problem problem arise loading coupon benefit management page',\n",
              " 'english version hi possible english version thank',\n",
              " 'phone authenticated otp call agent able find letter authentication also e mail thing call counselor',\n",
              " 'slowed since last update hard pay product give alive',\n",
              " 'good good',\n",
              " 'network error occurs app save state try try point next time gone totally tough',\n",
              " 'problem language dont understand language used app advise keep option user choose language may prefer',\n",
              " 'nice nice apps',\n",
              " 'english language like',\n",
              " 'great hassle free way order contact got call reminding prescription expires tomorrow',\n",
              " 'expensive expected thought saving money cutting middle man waaaaay convenient doctor office',\n",
              " 'super fast navigation brand fast easy checkout additional ad b',\n",
              " 'easy step step process correct information took minute place order',\n",
              " 'placing order easy especially paper copy rx update review receive order rebate',\n",
              " 'super fast ordering reordering easy interface love convenience app',\n",
              " 'love make getting contact easy',\n",
              " 'easy use def recommend',\n",
              " 'love app super easy use ordered contact le minute',\n",
              " 'easy use ordering process fast efficient',\n",
              " 'simple cave man',\n",
              " 'simple fast easy use eye appointment',\n",
              " 'user friendly',\n",
              " 'easy use love free shipping',\n",
              " 'easy use',\n",
              " 'dope',\n",
              " 'easy affordable',\n",
              " 'easy',\n",
              " 'great',\n",
              " 'easy app made ordering contact breeze great price',\n",
              " 'need sense giving anything le star',\n",
              " 'worked well glad',\n",
              " 'hell lot easier thought would',\n",
              " 'made getting new contact easy',\n",
              " 'love app easy super convenient',\n",
              " 'hopefully work well first time user',\n",
              " 'contact shipped time efficient',\n",
              " 'easy',\n",
              " 'easy access',\n",
              " 'first time app always used doctor office stand behind tore contact hoping solve problem contact',\n",
              " 'month later g still notify expired lens useless lens notification work successfully push alert discount fundamental reason keep running lens expiration notification work notification setting fine',\n",
              " 'good price exceptional customer service order sent particular fault begin thoroughly checking information completing order emailed got response rather quickly hour correction made receiving free overnight shipping ensure getting lens promptly wonderful',\n",
              " 'quick easy order contact app love really save time money make extremely happy got love free market capitalism',\n",
              " 'ordered sunday got call verifying last name recently married scheduled shipped monday happy customer',\n",
              " 'took second find rx get contact ordered convenient',\n",
              " 'short simple sweet super easy took le min order contact plus saving',\n",
              " 'super easy super cheap cheaper actually going optometrist good deal shipping',\n",
              " 'useful streamlines eye care need recommend contact wearer reliable shipping easy well',\n",
              " 'easy use remembered last order figure',\n",
              " 'well designed easy convenient',\n",
              " 'great hassle free way order contact got call reminding prescription expires tomorrow',\n",
              " 'expensive expected thought saving money cutting middle man waaaaay convenient doctor office',\n",
              " 'super fast navigation brand fast easy checkout additional ad b',\n",
              " 'easy step step process correct information took minute place order',\n",
              " 'placing order easy especially paper copy rx update review receive order rebate',\n",
              " 'super fast ordering reordering easy interface love convenience app',\n",
              " 'love make getting contact easy',\n",
              " 'easy use def recommend',\n",
              " 'love app super easy use ordered contact le minute',\n",
              " 'easy use ordering process fast efficient',\n",
              " 'simple cave man',\n",
              " 'simple fast easy use eye appointment',\n",
              " 'user friendly',\n",
              " 'easy use love free shipping',\n",
              " 'easy use',\n",
              " 'dope',\n",
              " 'easy affordable',\n",
              " 'easy',\n",
              " 'great',\n",
              " 'easy app made ordering contact breeze great price',\n",
              " 'need sense giving anything le star',\n",
              " 'worked well glad',\n",
              " 'hell lot easier thought would',\n",
              " 'made getting new contact easy',\n",
              " 'love app easy super convenient',\n",
              " 'hopefully work well first time user',\n",
              " 'contact shipped time efficient',\n",
              " 'easy',\n",
              " 'easy access',\n",
              " 'first time app always used doctor office stand behind tore contact hoping solve problem contact',\n",
              " 'month later g still notify expired lens useless lens notification work successfully push alert discount fundamental reason keep running lens expiration notification work notification setting fine',\n",
              " 'good price exceptional customer service order sent particular fault begin thoroughly checking information completing order emailed got response rather quickly hour correction made receiving free overnight shipping ensure getting lens promptly wonderful',\n",
              " 'quick easy order contact app love really save time money make extremely happy got love free market capitalism',\n",
              " 'ordered sunday got call verifying last name recently married scheduled shipped monday happy customer',\n",
              " 'took second find rx get contact ordered convenient',\n",
              " 'short simple sweet super easy took le min order contact plus saving',\n",
              " 'super easy super cheap cheaper actually going optometrist good deal shipping',\n",
              " 'useful streamlines eye care need recommend contact wearer reliable shipping easy well',\n",
              " 'easy use remembered last order figure',\n",
              " 'well designed easy convenient',\n",
              " 'get ad every single level restart frustrating potential',\n",
              " 'game interesting challenging however often buffer get stuck',\n",
              " 'wow play puzzle st round remember puzzle solve childhood lovely',\n",
              " 'love game deleting waiting month level play several update none update added new level',\n",
              " 'way many aggressive ad',\n",
              " 'amaze addicted',\n",
              " 'like game',\n",
              " 'play game',\n",
              " 'toooo gud game',\n",
              " 'many unskippable ad great game',\n",
              " 'mind us game',\n",
              " 'much ad',\n",
              " 'great experience knowledge help game',\n",
              " 'nice game',\n",
              " 'really good game',\n",
              " 'love game nice',\n",
              " 'granite',\n",
              " 'confusing',\n",
              " 'really fun',\n",
              " 'game beautiful',\n",
              " 'guide',\n",
              " 'super',\n",
              " 'yoko',\n",
              " 'great',\n",
              " 'nice',\n",
              " 'good',\n",
              " 'cool',\n",
              " 'cool',\n",
              " 'fantastic',\n",
              " 'superb',\n",
              " 'excellent',\n",
              " 'nice',\n",
              " 'love',\n",
              " 'fun',\n",
              " 'enjoy',\n",
              " 'love',\n",
              " 'good graphic ok way many ad ridiculous skip tbh waste time would recommend',\n",
              " 'terrible amount ad covering content making unpleasant play avoid',\n",
              " 'like old version better backspace beside p letter emoji capitalization',\n",
              " 'like far',\n",
              " 'really useful really like',\n",
              " 'send emojis without saying change input know change input',\n",
              " 'bullsh open apps say sill never register personal data credit card number go activate de setting message pop say personal data credit data enregistrate hahha thats bullsh',\n",
              " 'good',\n",
              " 'easy use best keyboard useful',\n",
              " 'fuzzy',\n",
              " 'love',\n",
              " 'perfect',\n",
              " 'awesome',\n",
              " 'good keyboard emoji user sensitive constant nag change theme disabled block top screen extremely irritating',\n",
              " 'last update bug open keyboard setting always fc back old version',\n",
              " 'work fine need update',\n",
              " '',\n",
              " 'hate',\n",
              " 'meh yeah',\n",
              " 'amazing',\n",
              " 'amazing app',\n",
              " 'good emoji keyboard',\n",
              " 'lit',\n",
              " 'great',\n",
              " 'love',\n",
              " 'good',\n",
              " 'loved',\n",
              " 'good',\n",
              " 'best emoji keyboard ever love',\n",
              " 'good',\n",
              " 'update emoji used normally',\n",
              " 'great',\n",
              " 'best keyboard never freeze like keyboard ive used ive never problem using think deserves star',\n",
              " 'really good go get ehh',\n",
              " 'terrible user friendly like original app please give customer option look forward navigating cumbersome app namaste',\n",
              " 'deeply disappointed free day longer work asking high price meditation expect oprah involved scam respect',\n",
              " 'update look good would without added picture purchasing product taking space phone product already available making picture redundant thanks experience',\n",
              " 'guess please everyone loved update sure idea streamlined even read full title meditation trying use there problem love meditation comparing update update quality functionality like comparing apple orange opinion sure looking wanted change feel completely mark',\n",
              " 'good ever get notification phone stop meditation playing annoying press play disturbs meditation prefer ed upgrade',\n",
              " 'able listen day past frozen crashed play liked upgrade point lot',\n",
              " 'love offer dislike intensely keep playing episode episode hour end used stop selected finished much better way',\n",
              " 'seems like update occurred let access free meditation experience yesterday today matter try let frustrating',\n",
              " 'day free meditation attraction first could see program free update keep showing order continue pay',\n",
              " 'started manifesting want nd day meditation wholeheartedly thank deepak ji oprah bringing excellent app highly recommend',\n",
              " 'great experience user friendly navigation',\n",
              " 'cool',\n",
              " 'would best crashing time new version keep crashing every time open app missing day experience one purchased access getting frustrating plus new version allow view daily meditation full review',\n",
              " 'day meditation excellent addition daily meditation practice truly enjoy listening oprah deepak short enough anytime pm would merit star ongoing glitch uninstalled reinstalled fixed full review',\n",
              " 'glitchy phone often say mediation failed load available deleted reinstalled several time nothing seemed work frustrating',\n",
              " 'love meditation session especially love try meditation commit buying great customer service couple reason give star stopped supporting older o smartphones lower end full review',\n",
              " 'frozen day thing w moving along great hit day stuck everyday return back day waste time new year problem freeze minute playing anything calming trans formative experience',\n",
              " 'stressed downloaded start time got email saying day expired within day already missed day needed day day meditation individual time frame want pay deep thinker full review',\n",
              " 'update apr love itl reliable consistent old review lately every night show unable library message uninstal n install nightly contacted support team told work bad',\n",
              " 'great meditation two thing wish would improve allow daily reminder item purchased library set time daily reminder writing journal blank space scroll would nice instruction scroll well bc much r full review',\n",
              " 'totally awesome little trouble time w wanted go back relisten rewind recording freaked close start',\n",
              " 'day fine day froze quarter way thru meditation disruptive rather online version uninstalling',\n",
              " 'overall easy use house meditation program purchased place allows stream time make participating day program breeze gave four star hang becomes stuck sometimes',\n",
              " 'regular free meditation love like spiritual teaching meditation even bought quite great value',\n",
              " 'enjoy using complete meditation anywhere however day meditation series allow journaling way online via desktop huge faux pa strongly important part experience',\n",
              " 'problem reviewer mentioned working great love hearing oprah deepak voice calming great addition regular practice',\n",
              " 'love music voice like access meditation day missed trip access',\n",
              " 'best app hand love variety sample meditation choose mediation intro read prepare whats come duo dynamic oprah deepak force reckoned thank helping become best sel full review',\n",
              " 'content great hard use give sense action progressing seems outdated poorly made easier need updating shame program good',\n",
              " 'extremely calming excellent method center day brings anxiety stress level leading progressive peaceful energetic positive mindset highy recommended hard time reaching true desired level full review',\n",
              " 'paid library available plus list free meditation offer easy keep track navigate always allow listen downloaded meditation internet free experience register get reminder missed experience thanks fix',\n",
              " 'love access meditation playing day though jump back day start replaying fix glitch',\n",
              " 'know begin asked whatever want call life force received answer imagine incredible positive creative flow meditation generate join together july unified field within u full review',\n",
              " 'good updated access journal entry say journal available meditation every day please fix',\n",
              " 'love app quick easy use right size read able meditate anywhere w laptop access email meditation experience handy app love day experience get time thanks much',\n",
              " 'love depend app journal would stay day access free meditation still made significant positive impact life',\n",
              " 'nice work consistently frequent glitch barring access journal part content',\n",
              " 'thank changing permission access done meditation enjoy quiet auto play another right away make awful loud introduction next meditation happened night us data catch please consider changing rea full review',\n",
              " 'amazing meditation session wish option keep expired currently shredding weight oprah absolutely helping stay track keep accountable',\n",
              " 'meditating oprah deepak using day meditation experience several year occasionally topic practice resonated enough bought look forward new day experience enthusiasm excitement gui full review',\n",
              " 'terrible user friendly like original app please give customer option look forward navigating cumbersome app namaste',\n",
              " 'deeply disappointed free day longer work asking high price meditation expect oprah involved scam respect',\n",
              " 'update look good would without added picture purchasing product taking space phone product already available making picture redundant thanks experience',\n",
              " 'guess please everyone loved update sure idea streamlined even read full title meditation trying use there problem love meditation comparing update update quality functionality like comparing apple orange opinion sure looking wanted change feel completely mark',\n",
              " 'good ever get notification phone stop meditation playing annoying press play disturbs meditation prefer ed upgrade',\n",
              " 'able listen day past frozen crashed play liked upgrade point lot',\n",
              " 'love offer dislike intensely keep playing episode episode hour end used stop selected finished much better way',\n",
              " 'seems like update occurred let access free meditation experience yesterday today matter try let frustrating',\n",
              " 'day free meditation attraction first could see program free update keep showing order continue pay',\n",
              " 'started manifesting want nd day meditation wholeheartedly thank deepak ji oprah bringing excellent app highly recommend',\n",
              " 'great experience user friendly navigation',\n",
              " 'cool',\n",
              " 'would best crashing time new version keep crashing every time open app missing day experience one purchased access getting frustrating plus new version allow view daily meditation full review',\n",
              " 'day meditation excellent addition daily meditation practice truly enjoy listening oprah deepak short enough anytime pm would merit star ongoing glitch uninstalled reinstalled fixed full review',\n",
              " 'glitchy phone often say mediation failed load available deleted reinstalled several time nothing seemed work frustrating',\n",
              " 'love meditation session especially love try meditation commit buying great customer service couple reason give star stopped supporting older o smartphones lower end full review',\n",
              " 'frozen day thing w moving along great hit day stuck everyday return back day waste time new year problem freeze minute playing anything calming trans formative experience',\n",
              " 'stressed downloaded start time got email saying day expired within day already missed day needed day day meditation individual time frame want pay deep thinker full review',\n",
              " 'update apr love itl reliable consistent old review lately every night show unable library message uninstal n install nightly contacted support team told work bad',\n",
              " 'great meditation two thing wish would improve allow daily reminder item purchased library set time daily reminder writing journal blank space scroll would nice instruction scroll well bc much r full review',\n",
              " 'totally awesome little trouble time w wanted go back relisten rewind recording freaked close start',\n",
              " 'day fine day froze quarter way thru meditation disruptive rather online version uninstalling',\n",
              " 'overall easy use house meditation program purchased place allows stream time make participating day program breeze gave four star hang becomes stuck sometimes',\n",
              " 'regular free meditation love like spiritual teaching meditation even bought quite great value',\n",
              " 'enjoy using complete meditation anywhere however day meditation series allow journaling way online via desktop huge faux pa strongly important part experience',\n",
              " 'problem reviewer mentioned working great love hearing oprah deepak voice calming great addition regular practice',\n",
              " 'love music voice like access meditation day missed trip access',\n",
              " 'best app hand love variety sample meditation choose mediation intro read prepare whats come duo dynamic oprah deepak force reckoned thank helping become best sel full review',\n",
              " 'content great hard use give sense action progressing seems outdated poorly made easier need updating shame program good',\n",
              " 'extremely calming excellent method center day brings anxiety stress level leading progressive peaceful energetic positive mindset highy recommended hard time reaching true desired level full review',\n",
              " 'paid library available plus list free meditation offer easy keep track navigate always allow listen downloaded meditation internet free experience register get reminder missed experience thanks fix',\n",
              " 'love access meditation playing day though jump back day start replaying fix glitch',\n",
              " 'know begin asked whatever want call life force received answer imagine incredible positive creative flow meditation generate join together july unified field within u full review',\n",
              " 'good updated access journal entry say journal available meditation every day please fix',\n",
              " 'simple easy use unnecessarily waste time good investment time personal growth',\n",
              " 'love app quick easy use right size read able meditate anywhere w laptop access email meditation experience handy app love day experience get time thanks much',\n",
              " 'love depend app journal would stay day access free meditation still made significant positive impact life',\n",
              " 'nice work consistently frequent glitch barring access journal part content',\n",
              " 'thank changing permission access done meditation enjoy quiet auto play another right away make awful loud introduction next meditation happened night us data catch please consider changing rea full review',\n",
              " 'amazing meditation session wish option keep expired currently shredding weight oprah absolutely helping stay track keep accountable',\n",
              " 'good dating app love much lot chinese english speaking member active chat request soon registered advertising chat others member freely used different dating apps function simple direct one user exchanged contact easily guy met nice gentle serious feeling good hopefully every enjoy using app',\n",
              " 'thank friend introduced dating changed impression dating app first time real date real life dating app happy satisfied quality app especially excellent customer service function user oriented localized user active wait long user reply matching finally honestly give big like app hope enjoy app',\n",
              " 'seems nice need vip even send message another party issue user wish pay membership time understandable send msg first party msg able reply without problem',\n",
              " 'dont waste money become vip ton scam rubbish',\n",
              " 'fu ng app wasting time send receive heart sign send receive message asking money message better find another platform',\n",
              " 'like dating much different dating apps member truly want make friend personal information user good detail help easily understand member function interface dating simple user friendly advertisement easy get start find someone chat directly user active serious met member similar interest value dinning offline sometimes joined activity others hope everyone make friend find half',\n",
              " 'happy interesting hello friend glad meet u let enjoy',\n",
              " 'well actually good thing allowed match day plus filter country u want socialize happen randomly chosen',\n",
              " 'nice many gal user friendly good dating app much better others',\n",
              " 'nice attractive function member friendly best choice meet new friend',\n",
              " 'nice attractive function user nice feeling good',\n",
              " 'nice many function best meet friend',\n",
              " 'chat girl without paying premium waste time',\n",
              " 'chatting behind paywall unable initiate conversation anyone without paying subscription fee',\n",
              " 'hard send message like also worst site need vip member send message',\n",
              " 'nice many gal user friendly great easy use',\n",
              " 'nice also user much friendly love',\n",
              " 'dont want spend money dating dont need make payment become vip chat others',\n",
              " 'cant reply message',\n",
              " 'good way start something different',\n",
              " 'nice sote focus wanted',\n",
              " 'nice alot user',\n",
              " 'nice many people inside',\n",
              " 'even send message anyone unless vip member purely business',\n",
              " 'receive email reply message',\n",
              " 'app worthy praise still need work hard',\n",
              " 'cool hard use hard',\n",
              " 'nice many member like',\n",
              " 'good even simplest message function need vip',\n",
              " 'necassary vip member sent message others',\n",
              " 'lot fake account',\n",
              " 'really worth try dating platform good quality',\n",
              " 'nice app people friendly like',\n",
              " 'nice many member user active great easy use',\n",
              " 'ok easy access',\n",
              " 'vosan wong',\n",
              " 'nice many gal user friendly well designed easy',\n",
              " 'perfect',\n",
              " 'thanks lot excellent map gi love like much working well even without data connection helpful people go ahead keep u',\n",
              " 'application much help connection wi fi addition route total transport city huge plus',\n",
              " 'good app get lost anywhere',\n",
              " 'showing easily fastest route united arab emirate taking longitude latitude map coordination input every location uae united arab emirate need update map latest updated street name area location poi restaurant hotel atm',\n",
              " 'useful find office place uae love offline facility',\n",
              " 'love cause always give date information really useful',\n",
              " 'lot intrusive advertising suggestion invitation become agent photographer',\n",
              " 'ask add opportunity watch bus currently online displayed yandex transport',\n",
              " 'increase launch speed weak device',\n",
              " 'need improve lot location search suggestion',\n",
              " 'like map show abu dhabi want add abu dhabi also possible',\n",
              " 'previously application eating le battery consumption estimated phone high intensive',\n",
              " 'moved another city without knowing area everywhere application help',\n",
              " 'making life easy thanks lot gi',\n",
              " 'useful helping always find location',\n",
              " 'nothing',\n",
              " 'wish map country around world',\n",
              " 'already couple week buggy happened everything happens slowly delay even hang',\n",
              " 'good application need work update example object built',\n",
              " 'really good offline navigation iam visit visa dubai helped lot navigation searching job feedback would like developer know developmental activity route changed also stop changed please update',\n",
              " 'think great u add notification app ex one two busstops till destination point people could leave open without checking watching way like little paranoid scared miss stop',\n",
              " 'application healthy know much application started hang constantly fly often white screen appears application hang',\n",
              " 'everything fine reason stopped updating map example exhibition economic achievement long time repair postponed transfer hoping july update fix nothing happened',\n",
              " 'yesterday tooks wrong location going meeting meeting got canceled delay reach right place al quoz dubai',\n",
              " 'thank app often different city go please add tashkent city capital uzbakistant',\n",
              " 'good people send working plz check',\n",
              " 'awesommmmmmmmmm app jst dwnld nd njy nt get trapped anywhr pakka',\n",
              " 'always use application think convenient interface offline map surprised find list city minsk download competitor application',\n",
              " 'best ever used offline mode work well offline mode uae',\n",
              " 'constantly fly impossible use samsung galaxy note',\n",
              " 'amazing please add multiple destination',\n",
              " 'cool prog rescued',\n",
              " 'pedestrian especially foreign city know application better sit behind wheel impression spoil still convenient find place go repeatedly navigator offered roll turn around would roadway oncoming traffic mention fact navigator sometimes offer dirt road instead normal one spent whole night track winter',\n",
              " 'disgusting first everything fine know language turn say application pereklinilo offered twice exact opposite route much advise download dare ready instead right place go ebony sure going right',\n",
              " 'best map dubai sharjah ajman please add abu dhabi ra al khaima fujairah umm al qwain',\n",
              " 'useful without internet',\n",
              " 'number aps world',\n",
              " 'always help',\n",
              " 'amazing also need location abu dhabi plzzzzz',\n",
              " 'icon thank',\n",
              " 'waiting join platform thank later',\n",
              " 'great',\n",
              " 'nice',\n",
              " 'kinda good know find m right',\n",
              " 'exciting experience meet someone dont idea',\n",
              " 'best dating ever',\n",
              " 'good',\n",
              " 'nice',\n",
              " 'nice',\n",
              " 'good',\n",
              " 'cool',\n",
              " 'good app could free feature like translation search engine setting',\n",
              " 'let try first',\n",
              " 'chat',\n",
              " 'excellent',\n",
              " 'ok',\n",
              " 'new',\n",
              " 'good',\n",
              " 'really like could help find future chinese husband really want name black woman really cool get find chinese house find chinese guy attractive need better looking japanese guy cuz japanese guy got flat face',\n",
              " 'great loving',\n",
              " 'good fun',\n",
              " 'simple',\n",
              " 'awesome',\n",
              " 'good',\n",
              " 'really great app found girlfriend using redbeans life much better pretty cute fit requirement could imagine life u redbeans highly recommended',\n",
              " 'hate take requirement send message',\n",
              " 'lady find partner men try make friend lady lady reply chat',\n",
              " 'amazing app easy intuitive found half redbeans highly recommend',\n",
              " 'good full real people',\n",
              " 'hard',\n",
              " 'nice g',\n",
              " 'nice',\n",
              " 'nice app definitely need pay benefit way filter city see nearby like website',\n",
              " 'ad said free chat',\n",
              " 'hope wish come true',\n",
              " 'sweet',\n",
              " 'rubbish',\n",
              " 'thief',\n",
              " 'good way know many new friend friend also pay explored new world',\n",
              " 'really good problem make groupchats tell whole groupchat email used second line create chat send message groupchat actul message say email would like fixed please amazing',\n",
              " 'everyday someone keep calling kinda bug every night send guy email every detail freakin mysterious call hope hear good news',\n",
              " 'thanks fixing notification problem new recent update give star cause miss call text anymore',\n",
              " 'get phone call make make person line',\n",
              " 'whenever number verification say plzz tell',\n",
              " 'ring phone',\n",
              " 'aap awesome',\n",
              " 'eight',\n",
              " 'really liked feature really send receive sm call wifi g however query developer able number whatsapp facebook registration able call u based landline number rest good far thanks ton',\n",
              " 'loved ad starting popping using get rid ad dominating entire screen hate least put ad corner make small really hinder well app',\n",
              " 'using premium still poor quality call voice break badly sometimes people even understand tell g wi fi connection poorly designed',\n",
              " 'even deleted first downloaded co even letting register please need work app',\n",
              " 'call keep dropping complete suck trying take care important call handle business may able reach person need talk',\n",
              " 'create account keep saying error occurred tried different email different password nothing',\n",
              " 'cant create account tried different email say error occurred wasted time uninstalling',\n",
              " 'keep dropping open n loses signal take long load friend receiving photo sending',\n",
              " 'keep crashing keep ending call please fix note',\n",
              " 'fix problem error occurred happy give five star',\n",
              " 'installed signed able make call texting receive send number tried also canada number response',\n",
              " 'really like app want know available iphone',\n",
              " 'create account always pop connect error occurred',\n",
              " 'pay credit make international call never recieve',\n",
              " 'act weird sometimes frustrating need good line connect people',\n",
              " 'showing error signup',\n",
              " 'allow sign fix problem',\n",
              " 'unable sing always show error',\n",
              " 'error occurred bata raha hai',\n",
              " 'create account saying error occurred',\n",
              " 'sweet original number call text friend family',\n",
              " 'creating account always showing error occurred',\n",
              " 'good creating number show error occurred plz fix',\n",
              " 'error occurred sign',\n",
              " 'remove add sign sure',\n",
              " 'great app made great enjoying love nd line',\n",
              " 'error heck',\n",
              " 'unable create account',\n",
              " 'always error',\n",
              " 'great app easy work well',\n",
              " 'nice easy',\n",
              " 'good business line make wifi compatible',\n",
              " 'great u added exercise mean chest back shoulder',\n",
              " 'time exercise match designated body part aim work still great',\n",
              " 'helped get ideal body wanted',\n",
              " 'always challenging definetly worth feel energetic loose day made better power put little ease tell almost give good advice',\n",
              " 'challenging best workout far love',\n",
              " 'disappointed confusing able understanding level beginner intermediate advance exercise audio also working well workout full body workout content available full body workout accurate way something satisfaction',\n",
              " 'really good show workout move',\n",
              " 'fun brother make lot fun thanks',\n",
              " 'great personal training',\n",
              " 'helpful',\n",
              " 'love',\n",
              " 'tried multiple workout seem always come back one workout categorized give much break need workout also rest day really liked start easy progress day go also connects google fit',\n",
              " 'started find motivation go gym found day good way keeping gave lot motivation something usually struggle calorie controlled diet give chocolate month lost stone started medium silver complete hard silver side plank second started hold second sure go certainly improved thanks app',\n",
              " 'really enjoy app love workout option workout get challenging progress feel getting stronger wanted pay app saw review year stating free version option would like buy wait ensure bug fixed first',\n",
              " 'please tell really confused weight loss follow easy medium hard level daily complete monthly',\n",
              " 'good gym instructor cover home exercise easily effectively left exercise day remind come back provide exercise may look effect week love app thankful designer thanks much',\n",
              " 'easy use perfect people looking workout home make easy hard want category make longer workout like',\n",
              " 'love simple effective week easy program lost inch waist recommended friend family even got husband workout',\n",
              " 'getting anywhere weight loss goal husband introduced app achieved easily every amazed transformation',\n",
              " 'great app help keep track workout give tip exercise workout short get tired lot ad',\n",
              " 'starting work slow back injury great work pace',\n",
              " 'great app keep motivated love day challenge end sight even day',\n",
              " 'quick easy way work without go gym',\n",
              " 'hate force exercise everyday',\n",
              " 'help lot losing weight using since early july currently losing kg hee pray keep losing weight',\n",
              " 'really love like actually show',\n",
              " 'many ad apart workout really effective th day noticeable change seen',\n",
              " 'helped get back great shape often get complement toned look',\n",
              " 'like workout wish variety workout',\n",
              " 'great app easy great combination exercise keep thing interesting',\n",
              " 'diet chart also helpful u according everyone need diet also necessary',\n",
              " 'amazing highlight within may post downloaded see highlight otherwise like listen hope guy would suggest idea may allow user post highlight match well hope would look thanks',\n",
              " 'log google many ad iritating please remove ad fix log problem',\n",
              " 'please update player list liga indonesia',\n",
              " 'great issue sorted',\n",
              " 'amazing need new design',\n",
              " 'please add play play score especially mlb',\n",
              " 'wonderful application',\n",
              " 'best working used',\n",
              " 'live colorado spring colorado need say',\n",
              " 'excellent',\n",
              " 'better brainless runner actually make think',\n",
              " 'cool game liked much help developing concentration',\n",
              " 'excellent really tough higher cpu level',\n",
              " 'great game keep u busy hour obviously u know play',\n",
              " 'simple game pas time away grandson like',\n",
              " 'great way waist time',\n",
              " 'great',\n",
              " 'connect four v good',\n",
              " 'boring put chip hole let win',\n",
              " 'super fun game really good brain game',\n",
              " 'boring game sooooo boring',\n",
              " 'could made better improving manoeuvre',\n",
              " 'addictive playing almost every day year great version',\n",
              " 'row knew row could fun',\n",
              " 'keep busy',\n",
              " 'love game rock',\n",
              " 'nice simple game',\n",
              " 'love',\n",
              " 'ive played level three time programmed ai c let go second level fifteen time could make suggestion improving evaluation function like us concept zugzwang accurate',\n",
              " 'nice wallpaper k even k presented hardly fullhd perhaps scaled k making look grainy blurry would recommend phone screen resolution higher full hd nice collection great quality unfortunately',\n",
              " 'refresh function scramble excisting wallpaper fooling lot wallpaper bad quality waste time',\n",
              " 'awesome app wallpaper vibrant exclusive mostly excessive ad make miserable wallpaper please least reduce',\n",
              " 'would better add animated wallpaper overall good daily updated wallpaper',\n",
              " 'true k wallpaper great variety new wallpaper must added frequently',\n",
              " 'good better k picture',\n",
              " 'superb love wallpaper give confidence whenever look',\n",
              " 'really cool amazing graphic really enjoyable scroll threw look',\n",
              " 'gd bad',\n",
              " 'good searching house',\n",
              " 'app basically landlord seller oriented design user friendly easy tenant search filled bunch advertisement fake landlord agent advertising may main source income designed tenant buyer easy search house company care tenant life want advertising revenue consider convenience use search strongly recommended use app search house',\n",
              " 'given example else unclear making money debug user help would like send case search screening little rotten find result team screened screened example searching taichung city map mode independent suite screening open fire balcony find bunch non conforming condition',\n",
              " 'map mode see number object approximate location click view page object trouble thank moto z play android',\n",
              " 'also telephone information also set become troublesome necessary u download use app',\n",
              " 'rotten pushing broadcast pushed rotten',\n",
              " 'need phone permission way',\n",
              " 'english shame',\n",
              " 'personal collection synchronize web version account added collection computer app logged none synchronized',\n",
              " 'essential essential foreigner living taiwan sure english version created simple translate app speak mandarin would almost impossible read fine line please get work',\n",
              " 'app post top let',\n",
              " 'guy tencent folder called tencent tpush installed root directory internal storage updated latest version log directory show receiving pushed content com tencent andriod tpush action sdk show taiwan company guy tencent trust chinese company choice uninstall app',\n",
              " 'language english option',\n",
              " 'please fix update house information seen rental house',\n",
              " 'request english version please',\n",
              " 'look filtering criterion better store filtering criterion future',\n",
              " 'many ad',\n",
              " 'lot time lot time management easy take care',\n",
              " 'still room improve',\n",
              " 'turned notification still keeping post',\n",
              " 'location correct',\n",
              " 'good',\n",
              " 'friendly english speaker english interface apply content suitable english speaker',\n",
              " 'really helpful app',\n",
              " 'far like option talk get help connect great however qite bug glitch sure upgrade would offer wouldnt consider bug worked great idea could help many people please fix bug',\n",
              " 'really awesome app problem always talk people make feel better thank',\n",
              " 'yeah cup fine glitchy sometimes le feature available',\n",
              " 'quick honest response',\n",
              " 'helpful',\n",
              " 'huge issue called listener people idea going spread misinformation mental health lack empathy never reply politely told listener unhelpful told therapy useless joked blocked seriously hope people never go advice support careless knowledge issue discussed even though found ocd category please train listener properly',\n",
              " 'boy super buggy slow slow fact sure still running listener nice generally actually connect one show many listener available active pushy constantly trying get pay therapist app',\n",
              " 'absolutely amazing heals help anxiety depression hard people say stop wimp there people real problem thoose problem feel nice vent everything',\n",
              " 'simple way view eating get better idea habit reason though crash girlfriend every single time open open close error open every time infuriating updated year dont know still developed abandonware still happy charge month though',\n",
              " 'good app work often repeat error message close abruptly',\n",
              " 'could open week constant crash response developer fb page however work great',\n",
              " 'pointless downloading installed find day free trial start paying monthly',\n",
              " 'enjoy app wish crash every time try go back',\n",
              " 'havent able open ver week',\n",
              " 'great business model listed free really using since twogrand loved disappointed fee mislabeled free rather free ad option pay ad free version',\n",
              " 'used free called two grand could see others meal changed many time suck',\n",
              " 'say completely free free day per month get free day completely implies without restriction work fine taking picture food',\n",
              " 'like pace variety hear timer music playing mute music update nice app',\n",
              " 'superb app office goin staff businessman le time mint exercise keep body fit act like instructor u enjoy good',\n",
              " 'great reminds workout tailored ability wish preview workout video form starting workout',\n",
              " 'far good got everything need simple well illustrated exercise lite voice timing stay might tempted get ad free version soon',\n",
              " 'love app really keep motivated better physically super easy home',\n",
              " 'put timmings hard plan fr completed within minute idea wen rest within exercise',\n",
              " 'blip audio image great quick way stay little active',\n",
              " 'loved much interesting easy without need go gym',\n",
              " 'first time feel exhausted good job',\n",
              " 'great app minute definately make sweat',\n",
              " 'good want exercise',\n",
              " 'bland boring even paid level recommended till add feature wish field new habit section add detail also ability colour code habit organize better perhaps category section sort habit ie habit improve school life work life etc un installing till thing added',\n",
              " 'minimalistic effecient exactly advertises design sleek instruction clear switched another complicated objective tracker working time week date night week optional skip day rewire tad better management tired',\n",
              " 'wonderful done amazing thing perfectionist attitude used make long impossible complete list finish everyday felt like failure list couple thing finish day finally time time add couple new thing able finish list feel free failing everyday thank much creating app',\n",
              " 'worked wonder problem find think current day bit lagged behind sometimes get early still highlight previous day big issue aside perfect highly recommended anyone want track habit',\n",
              " 'small bug yet start really using concept seems good set habit start date week yet getting daily notification like appreciate motivational spirit save habit start date',\n",
              " 'using whole year almost everyday goddamn without write review often deserves praise given amazing app intuitive easy use',\n",
              " 'great concept also think thing front everyday feel like like look positive way pushup best target smoking anything adviced maybe developer take innovative way think solution',\n",
              " 'like tried habit bull fabulous etc interface workflow much focused overwhelm thing almost habit tracker missing complement hope week among first since invested bought premium version',\n",
              " 'think great app much cheaper calendar phone notebook think worth money great concept tho especially people really struggle bad certain addiction much love app uninstalling thank tho',\n",
              " 'bought plus version love great alternative notecard actively widget suggestion reach end habit habit breaking time set creation habit say completed habit force reset wish could choose continue indefinitely without time goal set also set habit breaking time mark lot day incomplete end time still see completed habit really true wish punishment incomplete day severe maybe time goal reset maybe something le dramatic',\n",
              " 'habit tracker habit motivation allows name make personal habit like wanted upgrade clash clan building every morning let name habit make star',\n",
              " 'completing goal give red x usually negative symbol feel good seeing also seem way set goal specific day every day mean forced break streak take rest day making feel bad',\n",
              " 'nought cross achieves task assigns x day missing changed lot cross look like lot wrong therefore lot miss circle end looking positive choose icon green circle achieved red missed',\n",
              " 'great app simple clear reminder really helpful really helping change habit one thing like would able alternate day yoga day running next',\n",
              " 'better pool game google play slightly buggy opponent connection stable suddenly say run time even though made shot also seem support push timer need b obvious run',\n",
              " 'hate get cue piece maxed cue really wish guy would change keep getting n hr box cairo delhi n end getting piece use complete waste time change n review go back star',\n",
              " 'game alright bit sketchy either opponent bad connection pool cue power bar need look annoying trying get right amount power suddenly start moving angle finger moved bar',\n",
              " 'hi really like game tried ti purchase halloween pack twice amount got deducted bank account transaction pool showed declined could u please let knw whether get pack money back',\n",
              " 'worst server iran first time tried game acoutered message connection slow tried best network iran recently even connect game time please consider better server cause many iranian love game',\n",
              " 'previous profile however update lost million coin rank sad frustrating start ball fix give five star',\n",
              " 'love game issue requesting gift club advise restarted phone closed opened even checked update help would great worked fine today',\n",
              " 'wanted enjoy game hacked death many people become boring pot ball back u started turn super fast fiber bb connection badly maintained app',\n",
              " 'really love wish like real pool sink stripe break stripe suck getting beat someone shooting random winning shoot full power hoping sink ball every pocket called love',\n",
              " 'really think game awesome play table pool time game real life pool people complaining control developer fault individual fault know manipulate easy pool peace men',\n",
              " 'sorry greedy love game since started club created go different club game would outstanding happens rated star get attention sorry',\n",
              " 'really good addictive game girlfriend constantly playing downfall sometimes watch video free money dont emd getting happened numerous time great game',\n",
              " 'game cut sometimes u loose turn sometimes cause match loss also spend money recharge stick whats play real bca pool effort b effect',\n",
              " 'actually addicted game seemed wierd critical time game going win match game shuts time get rebooted lost time ever critical moment never play promise game totally rigged thats perfectly clear spin wheel always land low chance otherwise rigged',\n",
              " 'used daily spin time never got coin game tell buy better spin box shame fair fair seriously many spin get nothing good unlucky',\n",
              " 'hundred coin new even winning game player backing played waited player back still getting extra coin winning going able play day till build coin',\n",
              " 'indian cheat see option choose opponent based wish play million cheating indian permantly online',\n",
              " 'installed trip thought would wifi decided practice offline mode sadly game money play offline want waste got back tried actual game working fine middle game closed mention take forever load time got back already lost happened lost money really feel like playing anymore',\n",
              " 'made chicken eat mouse many convenient bug big game free spin joke wait opponent response lot flaw sure rigged seems like',\n",
              " 'give star everytime offer free cash never go get level requires still reward issue either several friend problem quit offer',\n",
              " 'enjoyed game much last game ive played either taken money automatically said opponent im game take shot say ran time automatically win fix problem ill rate star many lag game like monaco lag dozen like somehow manages buy cue twice ended barely money',\n",
              " 'used love gsme much made purchase didnt receive purchase also coin csme gone without approval need fixed spent lot money thru google play angry isnt fixed soon purchase coin replaced delete gsme take action miniclip hsppy',\n",
              " 'really love wish like real pool sink stripe break stripe suck getting beat someone shooting random winning shoot full power hoping sink ball every pocket called love',\n",
              " 'spinning wheel rigged dont get play people rank dont get rank refund coin cant dissapear addictive game entertaining however coin finished request gift people online appear something hourly bonus something player keep playing without actually purchase coin play',\n",
              " 'best game want say point want say creator game add voice conversation option game make exciting add option watch others game tournament playing time get bore win quaterfinal semifinal final match opponent st match bored felling everyone suggest add feature see others game tournament match',\n",
              " 'love new club cool club actually prize like sticker shirt cue hat honesty anything would cool advertisement spread word game game prize like cue big coin mini game chat custom table u challenge someone would dope diffently need new profile pic win purchase keep seeing lame one anything make custom player anything player win would major upgrade sure must game classic mine year',\n",
              " 'best pool game ever aware hacker get credit card ready pay money best money making machine creator owner need couple private jet many time accidently push million game want play high stake think friend thats plan bastard',\n",
              " 'better pool game google play slightly buggy opponent connection stable suddenly say run time even though made shot also seem support push timer need b obvious run',\n",
              " 'hate get cue piece maxed cue really wish guy would change keep getting n hr box cairo delhi n end getting piece use complete waste time change n review go back star',\n",
              " 'game alright bit sketchy either opponent bad connection pool cue power bar need look annoying trying get right amount power suddenly start moving angle finger moved bar',\n",
              " 'hi really like game tried ti purchase halloween pack twice amount got deducted bank account transaction pool showed declined could u please let knw whether get pack money back',\n",
              " 'awesome liked look seeing nickatnyte playing molt glad added club game needed one thing though player get hope winning big daily spin rigged get low prize',\n",
              " 'really enjoy playing great graphic never problem connection issue cheat however spin wheel never land anything wish lower level option guideline call pocket hate losing opponent slop shot',\n",
              " 'free spin joke slot lower always land odds say control u spend money seems like play ton bot wheres american',\n",
              " 'really think game awesome play table pool time game real life pool people complaining control developer fault individual fault know manipulate easy pool peace men',\n",
              " 'worst server iran first time tried game acoutered message connection slow tried best network iran recently even connect game time please consider better server cause many iranian love game',\n",
              " 'funny game never see cue battery inside earn upgrade pay coin stupid recharge cue u using stupid thing back star keep asking rate game stil nothing improved call pocket game pot ball wrong pocket ball hand opponent lose turn',\n",
              " 'previous profile however update lost million coin rank sad frustrating start ball fix give five star',\n",
              " 'love game thing want review regarding account deactivation reset delete made complicated available game setting b awesome last thing regarding name change eventhought change name facebook miniclip account still nothing change game u option could fix rate star sure whether really look problem beginning anyway thankyou team',\n",
              " 'take money different rate coin went game lost round come money gone also offer get coin dont get fix glitch idiot want coin back',\n",
              " 'great game use play mini clip year ago took star cant block people play poorly ie purposely scratching break scratching cause dont shot dont play like bitch',\n",
              " 'played pool game stand alone buy anything progress faster choose thing would improve game bigger bonus know time get get new club addition work fine addition game definitely pool game get addicted',\n",
              " 'sorry greedy love game since started club created go different club game would outstanding happens rated star get attention sorry',\n",
              " 'game getting better slowly still never got back million coin lost due hacker affected everyone back designer still made option turn daily deal post fb play someone new popups seem keep happening frequently get annoying lot people would agree option',\n",
              " 'love game issue requesting gift club advise restarted phone closed opened even checked update help would great worked fine today',\n",
              " 'wanted enjoy game hacked death many people become boring pot ball back u started turn super fast fiber bb connection badly maintained app',\n",
              " 'really good addictive game girlfriend constantly playing downfall sometimes watch video free money dont emd getting happened numerous time great game',\n",
              " 'good game spin win wheel definitely rigged highest ever gotten coin also used wait second open pro box wait hour disappointed situation',\n",
              " 'game cut sometimes u loose turn sometimes cause match loss also spend money recharge stick whats play real bca pool effort b effect',\n",
              " 'actually addicted game seemed wierd critical time game going win match game shuts time get rebooted lost time ever critical moment never play promise game totally rigged thats perfectly clear spin wheel always land low chance otherwise rigged',\n",
              " 'used daily spin time never got coin game tell buy better spin box shame fair fair seriously many spin get nothing good unlucky',\n",
              " 'hundred coin new even winning game player backing played waited player back still getting extra coin winning going able play day till build coin',\n",
              " 'indian cheat see option choose opponent based wish play million cheating indian permantly online',\n",
              " 'installed trip thought would wifi decided practice offline mode sadly game money play offline want waste got back tried actual game working fine middle game closed mention take forever load time got back already lost happened lost money really feel like playing anymore',\n",
              " 'made chicken eat mouse many convenient bug big game free spin joke wait opponent response lot flaw sure rigged seems like',\n",
              " 'give star everytime offer free cash never go get level requires still reward issue either several friend problem quit offer',\n",
              " 'enjoyed game much last game ive played either taken money automatically said opponent im game take shot say ran time automatically win fix problem ill rate star many lag game like monaco lag dozen like somehow manages buy cue twice ended barely money',\n",
              " 'used love gsme much made purchase didnt receive purchase also coin csme gone without approval need fixed spent lot money thru google play angry isnt fixed soon purchase coin replaced delete gsme take action miniclip hsppy',\n",
              " 'spinning wheel rigged dont get play people rank dont get rank refund coin cant dissapear addictive game entertaining however coin finished request gift people online appear something hourly bonus something player keep playing without actually purchase coin play',\n",
              " 'best game want say point want say creator game add voice conversation option game make exciting add option watch others game tournament playing time get bore win quaterfinal semifinal final match opponent st match bored felling everyone suggest add feature see others game tournament match',\n",
              " 'love new club cool club actually prize like sticker shirt cue hat honesty anything would cool advertisement spread word game game prize like cue big coin mini game chat custom table u challenge someone would dope diffently need new profile pic win purchase keep seeing lame one anything make custom player anything player win would major upgrade sure must game classic mine year',\n",
              " 'best pool game ever aware hacker get credit card ready pay money best money making machine creator owner need couple private jet many time accidently push million game want play high stake think friend thats plan bastard',\n",
              " 'better pool game google play slightly buggy opponent connection stable suddenly say run time even though made shot also seem support push timer need b obvious run',\n",
              " 'hate get cue piece maxed cue really wish guy would change keep getting n hr box cairo delhi n end getting piece use complete waste time change n review go back star',\n",
              " 'game alright bit sketchy either opponent bad connection pool cue power bar need look annoying trying get right amount power suddenly start moving angle finger moved bar',\n",
              " 'hi really like game tried ti purchase halloween pack twice amount got deducted bank account transaction pool showed declined could u please let knw whether get pack money back',\n",
              " 'awesome liked look seeing nickatnyte playing molt glad added club game needed one thing though player get hope winning big daily spin rigged get low prize',\n",
              " 'really enjoy playing great graphic never problem connection issue cheat however spin wheel never land anything wish lower level option guideline call pocket hate losing opponent slop shot',\n",
              " 'free spin joke slot lower always land odds say control u spend money seems like play ton bot wheres american',\n",
              " 'really think game awesome play table pool time game real life pool people complaining control developer fault individual fault know manipulate easy pool peace men',\n",
              " 'actually addicted game seemed wierd critical time game going win match game shuts time get rebooted lost time ever critical moment never play promise game totally rigged thats perfectly clear spin wheel always land low chance otherwise rigged',\n",
              " 'worst server iran first time tried game acoutered message connection slow tried best network iran recently even connect game time please consider better server cause many iranian love game',\n",
              " 'funny game never see cue battery inside earn upgrade pay coin stupid recharge cue u using stupid thing back star keep asking rate game stil nothing improved call pocket game pot ball wrong pocket ball hand opponent lose turn',\n",
              " 'previous profile however update lost million coin rank sad frustrating start ball fix give five star',\n",
              " 'love game thing want review regarding account deactivation reset delete made complicated available game setting b awesome last thing regarding name change eventhought change name facebook miniclip account still nothing change game u option could fix rate star sure whether really look problem beginning anyway thankyou team',\n",
              " 'take money different rate coin went game lost round come money gone also offer get coin dont get fix glitch idiot want coin back',\n",
              " 'great game use play mini clip year ago took star cant block people play poorly ie purposely scratching break scratching cause dont shot dont play like bitch',\n",
              " 'played pool game stand alone buy anything progress faster choose thing would improve game bigger bonus know time get get new club addition work fine addition game definitely pool game get addicted',\n",
              " 'sorry greedy love game since started club created go different club game would outstanding happens rated star get attention sorry',\n",
              " 'game getting better slowly still never got back million coin lost due hacker affected everyone back designer still made option turn daily deal post fb play someone new popups seem keep happening frequently get annoying lot people would agree option',\n",
              " 'love game issue requesting gift club advise restarted phone closed opened even checked update help would great worked fine today',\n",
              " 'wanted enjoy game hacked death many people become boring pot ball back u started turn super fast fiber bb connection badly maintained app',\n",
              " 'really good addictive game girlfriend constantly playing downfall sometimes watch video free money dont emd getting happened numerous time great game',\n",
              " 'good game spin win wheel definitely rigged highest ever gotten coin also used wait second open pro box wait hour disappointed situation',\n",
              " 'game cut sometimes u loose turn sometimes cause match loss also spend money recharge stick whats play real bca pool effort b effect',\n",
              " 'used daily spin time never got coin game tell buy better spin box shame fair fair seriously many spin get nothing good unlucky',\n",
              " 'hundred coin new even winning game player backing played waited player back still getting extra coin winning going able play day till build coin',\n",
              " 'indian cheat see option choose opponent based wish play million cheating indian permantly online',\n",
              " 'installed trip thought would wifi decided practice offline mode sadly game money play offline want waste got back tried actual game working fine middle game closed mention take forever load time got back already lost happened lost money really feel like playing anymore',\n",
              " 'made chicken eat mouse many convenient bug big game free spin joke wait opponent response lot flaw sure rigged seems like',\n",
              " 'give star everytime offer free cash never go get level requires still reward issue either several friend problem quit offer',\n",
              " 'enjoyed game much last game ive played either taken money automatically said opponent im game take shot say ran time automatically win fix problem ill rate star many lag game like monaco lag dozen like somehow manages buy cue twice ended barely money',\n",
              " 'know deal phone shuts turn back playing game keep happening playing big money game like game',\n",
              " 'used love gsme much made purchase didnt receive purchase also coin csme gone without approval need fixed spent lot money thru google play angry isnt fixed soon purchase coin replaced delete gsme take action miniclip hsppy',\n",
              " 'spinning wheel rigged dont get play people rank dont get rank refund coin cant dissapear addictive game entertaining however coin finished request gift people online appear full review',\n",
              " 'best game want say point want say creator game add voice conversation option game make exciting add option watch others game tournament playing time get bore win quaterfinal semifinal final match opponent st match bored felling everyone suggest add feature see others game tournament match',\n",
              " 'love new club cool club actually prize like sticker shirt cue hat honesty anything would cool advertisement spread word game game prize like cue big coin mini game chat custom table u challenge someone would dope diffently need new profile pic win purchase keep seeing lame one anything make custom player anything player win would major upgrade sure must game classic mine year',\n",
              " 'best pool game ever aware hacker get credit card ready pay money best money making machine creator owner need couple private jet many time accidently push million game want play high stake think friend thats plan bastard',\n",
              " 'better pool game google play slightly buggy opponent connection stable suddenly say run time even though made shot also seem support push timer need b obvious run',\n",
              " 'hate get cue piece maxed cue really wish guy would change keep getting n hr box cairo delhi n end getting piece use complete waste time change n review go back star',\n",
              " 'game alright bit sketchy either opponent bad connection pool cue power bar need look annoying trying get right amount power suddenly start moving angle finger moved bar',\n",
              " 'hi really like game tried ti purchase halloween pack twice amount got deducted bank account transaction pool showed declined could u please let knw whether get pack money back',\n",
              " 'awesome liked look seeing nickatnyte playing molt glad added club game needed one thing though player get hope winning big daily spin rigged get low prize',\n",
              " 'really enjoy playing great graphic never problem connection issue cheat however spin wheel never land anything wish lower level option guideline call pocket hate losing opponent slop shot',\n",
              " 'free spin joke slot lower always land odds say control u spend money seems like play ton bot wheres american',\n",
              " 'really think game awesome play table pool time game real life pool people complaining control developer fault individual fault know manipulate easy pool peace men',\n",
              " 'actually addicted game seemed wierd critical time game going win match game shuts time get rebooted lost time ever critical moment never play promise game totally rigged thats perfectly clear spin wheel always land low chance otherwise rigged',\n",
              " 'worst server iran first time tried game acoutered message connection slow tried best network iran recently even connect game time please consider better server cause many iranian love game',\n",
              " 'funny game never see cue battery inside earn upgrade pay coin stupid recharge cue u using stupid thing back star keep asking rate game stil nothing improved call pocket game pot ball wrong pocket ball hand opponent lose turn',\n",
              " 'previous profile however update lost million coin rank sad frustrating start ball fix give five star',\n",
              " 'love game thing want review regarding account deactivation reset delete made complicated available game setting b awesome last thing regarding name change eventhought change name facebook miniclip account still nothing change game u option could fix rate star sure whether really look problem beginning anyway thankyou team',\n",
              " 'take money different rate coin went game lost round come money gone also offer get coin dont get fix glitch idiot want coin back',\n",
              " 'great game use play mini clip year ago took star cant block people play poorly ie purposely scratching break scratching cause dont shot dont play like bitch',\n",
              " 'played pool game stand alone buy anything progress faster choose thing would improve game bigger bonus know time get get new club addition work fine addition game definitely pool game get addicted',\n",
              " 'sorry greedy love game since started club created go different club game would outstanding happens rated star get attention sorry',\n",
              " 'game getting better slowly still never got back million coin lost due hacker affected everyone back designer still made option turn daily deal post fb play someone new popups seem keep happening frequently get annoying lot people would agree option',\n",
              " 'love game issue requesting gift club advise restarted phone closed opened even checked update help would great worked fine today',\n",
              " 'wanted enjoy game hacked death many people become boring pot ball back u started turn super fast fiber bb connection badly maintained app',\n",
              " 'really good addictive game girlfriend constantly playing downfall sometimes watch video free money dont emd getting happened numerous time great game',\n",
              " 'good game spin win wheel definitely rigged highest ever gotten coin also used wait second open pro box wait hour disappointed situation',\n",
              " 'game cut sometimes u loose turn sometimes cause match loss also spend money recharge stick whats play real bca pool effort b effect',\n",
              " 'used daily spin time never got coin game tell buy better spin box shame fair fair seriously many spin get nothing good unlucky',\n",
              " 'hundred coin new even winning game player backing played waited player back still getting extra coin winning going able play day till build coin',\n",
              " 'indian cheat see option choose opponent based wish play million cheating indian permantly online',\n",
              " 'installed trip thought would wifi decided practice offline mode sadly game money play offline want waste got back tried actual game working fine middle game closed mention take forever load time got back already lost happened lost money really feel like playing anymore',\n",
              " 'made chicken eat mouse many convenient bug big game free spin joke wait opponent response lot flaw sure rigged seems like',\n",
              " 'give star everytime offer free cash never go get level requires still reward issue either several friend problem quit offer',\n",
              " 'enjoyed game much last game ive played either taken money automatically said opponent im game take shot say ran time automatically win fix problem ill rate star many lag game like monaco lag dozen like somehow manages buy cue twice ended barely money',\n",
              " 'know deal phone shuts turn back playing game keep happening playing big money game like game',\n",
              " 'used love gsme much made purchase didnt receive purchase also coin csme gone without approval need fixed spent lot money thru google play angry isnt fixed soon purchase coin replaced delete gsme take action miniclip hsppy',\n",
              " 'game suck freeze play many problem mention ad like game plan playing delete asap please want sain',\n",
              " 'really love wish like real pool sink stripe break stripe suck getting beat someone shooting random winning shoot full power hoping sink ball every pocket called love',\n",
              " 'game awesome several bug fixed annoying thing might spinned wheel time prize got coin prize show minigame love hi li option change ball cash currently first ball hope see change soon game',\n",
              " 'type glitch clock aiming cue stroking cue player hacked game putting update mode lose game allow collect winning advance must wait hour choose leave update mode lose winning previously game even though screen locked lame',\n",
              " 'far great game havent swarmed ad usually every game thoroughly enjoy gameplay long time fan pool great play friend good time killer',\n",
              " 'spin modelled correctly backspin nothing number time watched ball potted slower ball hit opponent go top white ball roll way much even low power top pretty sure rule game modelled incorrect something tk watch major physic rule based issue actually fun game play',\n",
              " 'two screen show match frustrating unnecessary especially sec delay right match x player win well understood coin get transferred',\n",
              " 'called ball pool rule make ball pool absent instance make break pull put right back center table scratch lose game unless made make ball break table still open get choose want make break follow make another ball still open game suck dick going try compare ball pool since premise game missing completely ball pool built fact make ball break scratch win fun game ball pool even allowed name',\n",
              " 'keep getting request gift even though person say sent never sent know today got request friend passed away couple month ago absolutely disgusting star',\n",
              " 'good game good wish aiming graphic longer aiming line would nice tutorial making shot hit cue english cue',\n",
              " 'love game spend alot time playing good understand trying make money sure blunty coiner game pretty set win id win would think haveing smoke coiner would spend wise great game fond cheat prevent set win',\n",
              " 'hate fact win get ball break real pool anywhere world hate play game get stuck playing someone double level matched level cool',\n",
              " 'nice game away time already addict time country slow network make inevitable lose interesting game already advantage great game fabulous graphic',\n",
              " 'game bad company try hardest get hard earned dollar return try create new account every day day guarantee every first wheel spin scratcher time row result crooked s company feel bad people give company money mini game obviously rigged changed game still rigged rot h',\n",
              " 'wait opponent ready shoot also nothing bunch amateur slam ball around table get lucky block shot',\n",
              " 'matter much update still cant get physic real pool king pool alot people anyone want play real pool realistic switch gane po like',\n",
              " 'think game would good choose country player also f g cheater like foreigner country like india need banned make game really unenjoyable play cheating hole quit game get away give winning think developer need crack lousy tallent player would keep track report number give developer thought would help developer problem taking money care integrity game honest player believe better pool game eventually everyone go one know wii problem keep',\n",
              " 'game rigged completely spin wheel never pay big extra guideline removed certain level shot defy basic law physic matter',\n",
              " 'classic cant beat good quick game ball even rookie noobies enjoy really learning curve downside requires connection play',\n",
              " 'really enjoy playing game sometimes feel like addict spin however kinda like prank push earn coin legitimately thanks developer great game indeed',\n",
              " 'play game n suddenly hv rcv missed call game loss connection n kp connecting main problem otherwise game good thanks',\n",
              " 'good game cue really hard unlock spin get coin le would rate higher changed',\n",
              " 'great game contains many bug struck playing suggest many unnecessary displaying middle game today played game even game declared opponent winner eats ram internal memory cache make smart phone lag',\n",
              " 'fun game rigged dont mind spending money game constantly losing taking money rigged spent money never received coin etc occasion refund either',\n",
              " 'awesome game realistic addictive thing suck connection problem player name mohammad mohammad moham md rigged match think match rigged',\n",
              " 'game became passion want give five star challenge keep charming game play ever far candy crush',\n",
              " 'started loving app st put cash took week realize half game programming real people fake player drive sale swindle bad otherwise real great product put cash month first thing happened every bet make k fixed loss lost million unfair game ai people still play game fixed thumb',\n",
              " 'would give star took away lag freeze every second phone game brings reason give star timed timed original pool timed fact freeze every second go well fact timed timer keep going even though stopped everything else pretty good',\n",
              " 'game continuously taking coin reason people mod pocket ball weight way messed fix bug fix remove modders game would fun',\n",
              " 'good game club free spin stuff like however let log fb google friend fb google stubborn im going different pool game',\n",
              " 'fun game bad thing hard play game cost half million take long get much coin',\n",
              " 'first need work rotation screen game provide double side full screen support major drawback',\n",
              " 'pay win aspect also work way buy good que game dollar earn free day would like suprise box bit fairer order level pay win player overall great addictive game',\n",
              " 'hardest infinity addictive game whenever bored want spend time play game tension free started able leave game awesome game till played',\n",
              " 'simply idea opponent player picking logic many compulsion make purchase something',\n",
              " 'u must put honduras cue seems like took time read review able challenge amount money coin u happened',\n",
              " 'thing would like see done lower level player get stuck higher level game wheel hit big number small number ever time',\n",
              " 'great game dropped star new update club glitchy club leaderboard constantly display inaccurate amount example said mil id mil went mil dropped since ive bill say ive something million make sense thats near even half ive whilst club profit margin ive either please fix',\n",
              " 'year still need work best game ok guess',\n",
              " 'good game day become addicted complain get daily spin reward show daily spin',\n",
              " 'got call playing automatically enter home irritating solve issue',\n",
              " 'happy breaking ball many time get break game continuously',\n",
              " 'keep de syncing mid game player constantly disconnect connection otherwise would given least star',\n",
              " 'game play totally bogus win game stall say slow connection wi fi say excellent connection total b',\n",
              " 'would much better could easily make pic facebook profile little thing like bring',\n",
              " 'every thing nice admin plzzz help upload facebook photo im maybe year old player ball wrong u help admin plzzz',\n",
              " 'would better ball break win rather spotted back table break win eight',\n",
              " 'always make winner opponent network issue matter network issue belongs opponent hate',\n",
              " 'loved game update open even allow practicing offline pretty disappointing spending much time building stats gaining level etc guess option uninstall cool',\n",
              " 'pretty good game noticed need pay way much attention power pool stick along shot timer much',\n",
              " 'spin nd purchase r rigged developer scratch n win never give reward poor gameplay high level player keep getting benifits nt gud',\n",
              " 'ever since updated losing game time run much faster half time show still time clock turn end abruptly saying ran time middle aiming cue disappears time run frustrating edited played game straight w breaking worst pool game',\n",
              " 'fun game cue upgrade little thing take beyond pool game also spammed ad like free game',\n",
              " 'sir new update awesome u solve issue issue played well club last time kickout many member u plzz solve issue plzz sir',\n",
              " 'great addictive game one thing guy improve vip thingy make different gold also spin thing always get',\n",
              " 'lovely game lovely graphic control look past flashy sale pitch haunt free play game amazing wish paid version without push message sale stuff',\n",
              " 'love game get trouble everyday thing wrong straight shot make pocket',\n",
              " 'fu king stupidity glitche much advice install fuc ing stupid game waste time',\n",
              " 'playing game anymore default lobby max chip mention even confirmation window make three time accidentally selected game risk chip absolutely want someone selects lobby play within default back highest every single time another way potentially lose chip buy reinto smh',\n",
              " 'spinning wheel rigged dont get play people rank dont get rank refund coin cant dissapear addictive game entertaining however coin finished request gift people online appear something hourly bonus something player keep playing without actually purchase coin play',\n",
              " 'best game want say point want say creator game add voice conversation option game make exciting add option watch others game tournament playing time get bore win quaterfinal semifinal final match opponent st match bored felling everyone suggest add feature see others game tournament match',\n",
              " 'love new club cool club actually prize like sticker shirt cue hat honesty anything would cool advertisement spread word game game prize like cue big coin mini game chat custom table u challenge someone would dope diffently need new profile pic win purchase keep seeing lame one anything make custom player anything player win would major upgrade sure must game classic mine year',\n",
              " 'best pool game ever aware hacker get credit card ready pay money best money making machine creator owner need couple private jet many time accidently push million game want play high stake think friend thats plan bastard',\n",
              " 'better pool game google play slightly buggy opponent connection stable suddenly say run time even though made shot also seem support push timer need b obvious run',\n",
              " 'game alright bit sketchy either opponent bad connection pool cue power bar need look annoying trying get right amount power suddenly start moving angle finger moved bar',\n",
              " 'hi really like game tried ti purchase halloween pack twice amount got deducted bank account transaction pool showed declined could u please let knw whether get pack money back',\n",
              " 'awesome liked look seeing nickatnyte playing molt glad added club game needed one thing though player get hope winning big daily spin rigged get low prize',\n",
              " 'free spin joke slot lower always land odds say control u spend money seems like play ton bot wheres american',\n",
              " 'really think game awesome play table pool time game real life pool people complaining control developer fault individual fault know manipulate easy pool peace men',\n",
              " 'actually addicted game seemed wierd critical time game going win match game shuts time get rebooted lost time ever critical moment never play promise game totally rigged thats perfectly clear spin wheel always land low chance otherwise rigged',\n",
              " 'worst server iran first time tried game acoutered message connection slow tried best network iran recently even connect game time please consider better server cause many iranian love game',\n",
              " 'funny game never see cue battery inside earn upgrade pay coin stupid recharge cue u using stupid thing back star keep asking rate game stil nothing improved call pocket game pot ball wrong pocket ball hand opponent lose turn',\n",
              " 'previous profile however update lost million coin rank sad frustrating start ball fix give five star',\n",
              " 'take money different rate coin went game lost round come money gone also offer get coin dont get fix glitch idiot want coin back',\n",
              " 'great game use play mini clip year ago took star cant block people play poorly ie purposely scratching break scratching cause dont shot dont play like bitch',\n",
              " ...]"
            ]
          },
          "metadata": {},
          "execution_count": 31
        }
      ],
      "source": [
        "text_list"
      ]
    },
    {
      "cell_type": "markdown",
      "metadata": {
        "id": "axDx0I-8S9Na"
      },
      "source": [
        "## Vectorize"
      ]
    },
    {
      "cell_type": "code",
      "execution_count": 33,
      "metadata": {
        "colab": {
          "base_uri": "https://localhost:8080/",
          "height": 0
        },
        "id": "aDfVYQHmTFLq",
        "outputId": "ea44ee74-3f01-4f1f-989c-d91d0a1b77bd"
      },
      "outputs": [
        {
          "output_type": "stream",
          "name": "stdout",
          "text": [
            "17\n"
          ]
        }
      ],
      "source": [
        "from sklearn.feature_extraction.text import CountVectorizer\n",
        "max_features=20000  # a random value that we specify as the size of the bag of words\n",
        "cou_vec=CountVectorizer(max_features=max_features,stop_words=\"english\")\n",
        "sparce_matrix=cou_vec.fit_transform(text_list).toarray() # vectorization\n",
        "all_words=cou_vec.get_feature_names() # bag of words\n",
        "print(np.amax(sparce_matrix))"
      ]
    },
    {
      "cell_type": "code",
      "execution_count": 34,
      "metadata": {
        "id": "7GKmrZgNTk7a"
      },
      "outputs": [],
      "source": [
        "words = pd.DataFrame(sparce_matrix,columns=all_words)"
      ]
    },
    {
      "cell_type": "markdown",
      "source": [
        "## Wordcloud"
      ],
      "metadata": {
        "id": "3Fpd9DDOxJO9"
      }
    },
    {
      "cell_type": "code",
      "execution_count": 35,
      "metadata": {
        "colab": {
          "base_uri": "https://localhost:8080/",
          "height": 380
        },
        "id": "rtFUqNc9TqKK",
        "outputId": "119c6447-5936-4584-e109-90d43d0de9d4"
      },
      "outputs": [
        {
          "output_type": "display_data",
          "data": {
            "text/plain": [
              "<Figure size 720x720 with 1 Axes>"
            ],
            "image/png": "[encoded data removed]"
          },
          "metadata": {
            "needs_background": "light"
          }
        }
      ],
      "source": [
        "from wordcloud import WordCloud\n",
        "plt.subplots(figsize=(10,10))\n",
        "wordcloud= WordCloud(width=800,\n",
        "                     height=500,\n",
        "                     background_color=\"white\",\n",
        "                     colormap=\"hsv\",\n",
        "                     random_state=42).generate(\" \".join(all_words[4500:]))\n",
        "plt.imshow(wordcloud)\n",
        "plt.axis(\"off\")\n",
        "plt.show()"
      ]
    },
    {
      "cell_type": "markdown",
      "metadata": {
        "id": "75dfdWBCY9Ko"
      },
      "source": [
        "## Define X & y"
      ]
    },
    {
      "cell_type": "code",
      "execution_count": 36,
      "metadata": {
        "id": "cRhiK5wyYz2U"
      },
      "outputs": [],
      "source": [
        "X=sparce_matrix\n",
        "y=df2.iloc[:,1].values"
      ]
    },
    {
      "cell_type": "markdown",
      "metadata": {
        "id": "e2gzhEKBZLsu"
      },
      "source": [
        "## Split Train Data & Test Data"
      ]
    },
    {
      "cell_type": "code",
      "execution_count": 37,
      "metadata": {
        "id": "HiPEb50UZIak"
      },
      "outputs": [],
      "source": [
        "from sklearn.model_selection import train_test_split\n",
        "X_train,X_test,y_train,y_test=train_test_split(X,y,test_size=0.2,random_state=42)"
      ]
    },
    {
      "cell_type": "markdown",
      "source": [
        "# Modeling"
      ],
      "metadata": {
        "id": "SkalK_2gcf20"
      }
    },
    {
      "cell_type": "markdown",
      "source": [
        "## Logistic Regression"
      ],
      "metadata": {
        "id": "HGAQk2XAckNa"
      }
    },
    {
      "cell_type": "code",
      "source": [
        "from sklearn.linear_model import LogisticRegression\n",
        "lr=LogisticRegression()\n",
        "lr.fit(X_train,y_train)\n",
        "print(\"Akurasi Logistic Regression: \",lr.score(X_test,y_test))"
      ],
      "metadata": {
        "id": "fen49XvAcrTl",
        "colab": {
          "base_uri": "https://localhost:8080/",
          "height": 0
        },
        "outputId": "2c6581fa-f256-4144-8af2-151143984f1d"
      },
      "execution_count": 38,
      "outputs": [
        {
          "output_type": "stream",
          "name": "stdout",
          "text": [
            "Akurasi Logistic Regression:  0.8935219657483247\n"
          ]
        }
      ]
    },
    {
      "cell_type": "code",
      "source": [
        "#confussion matrix\n",
        "y_pred_lr=lr.predict(X_test)\n",
        "y_true=y_test\n",
        "from sklearn.metrics import confusion_matrix\n",
        "names=[\"Positive\",\"Negative\",\"Neutral\"]\n",
        "cm=confusion_matrix(y_true,y_pred_lr)\n",
        "f,ax=plt.subplots(figsize=(5,5))\n",
        "sns.heatmap(cm,annot=True,\n",
        "            linewidth=.5,\n",
        "            cmap=\"YlGnBu\",linecolor=\"black\",\n",
        "            fmt=\".0f\",ax=ax)\n",
        "plt.xlabel(\"Prediksi\")\n",
        "plt.ylabel(\"Aktual\")\n",
        "plt.title(\"Confusion Matrix Logistic Regression\")\n",
        "ax.set_xticklabels(names)\n",
        "ax.set_yticklabels(names)\n",
        "plt.show()"
      ],
      "metadata": {
        "id": "r0PUTAW9dF8I",
        "colab": {
          "base_uri": "https://localhost:8080/",
          "height": 350
        },
        "outputId": "068d4e4e-8fad-4321-bd77-45f622c442c2"
      },
      "execution_count": 39,
      "outputs": [
        {
          "output_type": "display_data",
          "data": {
            "text/plain": [
              "<Figure size 360x360 with 2 Axes>"
            ],
            "image/png": "[encoded data removed]"
          },
          "metadata": {
            "needs_background": "light"
          }
        }
      ]
    },
    {
      "cell_type": "markdown",
      "source": [
        "## Decision Tree"
      ],
      "metadata": {
        "id": "QdfhGE7MdYJm"
      }
    },
    {
      "cell_type": "code",
      "source": [
        "from sklearn.tree import DecisionTreeClassifier\n",
        "dt = DecisionTreeClassifier(max_depth=150)\n",
        "dt.fit(X_train, y_train)\n",
        "print(\"Akurasi Decision Tree: \",dt.score(X_test,y_test))"
      ],
      "metadata": {
        "id": "6EQqboEUfhUs",
        "colab": {
          "base_uri": "https://localhost:8080/",
          "height": 0
        },
        "outputId": "6f9475d7-519e-484c-c0e5-489bc024da1f"
      },
      "execution_count": 40,
      "outputs": [
        {
          "output_type": "stream",
          "name": "stdout",
          "text": [
            "Akurasi Decision Tree:  0.8763961280714817\n"
          ]
        }
      ]
    },
    {
      "cell_type": "code",
      "source": [
        "#confussion matrix\n",
        "y_pred_dt=dt.predict(X_test)\n",
        "y_true=y_test\n",
        "names=[\"Positive\",\"Negative\",\"Neutral\"]\n",
        "cm=confusion_matrix(y_true,y_pred_dt)\n",
        "f,ax=plt.subplots(figsize=(5,5))\n",
        "sns.heatmap(cm,annot=True,\n",
        "            linewidth=.5,\n",
        "            cmap=\"YlGnBu\",linecolor=\"black\",\n",
        "            fmt=\".0f\",ax=ax)\n",
        "plt.xlabel(\"Prediksi\")\n",
        "plt.ylabel(\"Aktual\")\n",
        "plt.title(\"Confusion Matrix Decision Tree\")\n",
        "ax.set_xticklabels(names)\n",
        "ax.set_yticklabels(names)\n",
        "plt.show()"
      ],
      "metadata": {
        "id": "mhZcCrLgfqfr",
        "colab": {
          "base_uri": "https://localhost:8080/",
          "height": 350
        },
        "outputId": "6ad6fdd3-8378-45e0-e4f4-67cd5451c317"
      },
      "execution_count": 41,
      "outputs": [
        {
          "output_type": "display_data",
          "data": {
            "text/plain": [
              "<Figure size 360x360 with 2 Axes>"
            ],
            "image/png": "[encoded data removed]"
          },
          "metadata": {
            "needs_background": "light"
          }
        }
      ]
    },
    {
      "cell_type": "markdown",
      "source": [
        "## Random Forest"
      ],
      "metadata": {
        "id": "bJewSOFJfvdA"
      }
    },
    {
      "cell_type": "code",
      "source": [
        "from sklearn.ensemble import RandomForestClassifier\n",
        "rf = RandomForestClassifier(n_estimators=20,\n",
        "                            max_depth=200)\n",
        "rf.fit(X_train, y_train)\n",
        "print(\"Akurasi Random Forest: \",rf.score(X_test,y_test))"
      ],
      "metadata": {
        "id": "Z9Omo26cf085",
        "colab": {
          "base_uri": "https://localhost:8080/",
          "height": 0
        },
        "outputId": "70a52f16-bda1-4d39-f51c-bc1b95615f5c"
      },
      "execution_count": 42,
      "outputs": [
        {
          "output_type": "stream",
          "name": "stdout",
          "text": [
            "Akurasi Random Forest:  0.8808637379002234\n"
          ]
        }
      ]
    },
    {
      "cell_type": "code",
      "source": [
        "#confussion matrix\n",
        "y_pred_rf=rf.predict(X_test)\n",
        "y_true=y_test\n",
        "names=[\"Positive\",\"Negative\",\"Neutral\"]\n",
        "cm=confusion_matrix(y_true,y_pred_rf)\n",
        "f,ax=plt.subplots(figsize=(5,5))\n",
        "sns.heatmap(cm,annot=True,\n",
        "            linewidth=.5,\n",
        "            cmap=\"YlGnBu\",linecolor=\"black\",\n",
        "            fmt=\".0f\",ax=ax)\n",
        "plt.xlabel(\"Prediksi\")\n",
        "plt.ylabel(\"Aktual\")\n",
        "plt.title(\"Confusion Matrix Random Forest\")\n",
        "ax.set_xticklabels(names)\n",
        "ax.set_yticklabels(names)\n",
        "plt.show()"
      ],
      "metadata": {
        "id": "8ZH1Bn9YgRVC",
        "colab": {
          "base_uri": "https://localhost:8080/",
          "height": 350
        },
        "outputId": "c5d3f54e-c653-4a28-c090-080b58211dad"
      },
      "execution_count": 43,
      "outputs": [
        {
          "output_type": "display_data",
          "data": {
            "text/plain": [
              "<Figure size 360x360 with 2 Axes>"
            ],
            "image/png": "[encoded data removed]"
          },
          "metadata": {
            "needs_background": "light"
          }
        }
      ]
    },
    {
      "cell_type": "markdown",
      "source": [
        "## Neural Network"
      ],
      "metadata": {
        "id": "EY_UlzR29lGp"
      }
    },
    {
      "cell_type": "code",
      "source": [
        "import keras\n",
        "from keras.models import Sequential\n",
        "from keras.layers import Dense\n",
        "import tensorflow as tf"
      ],
      "metadata": {
        "id": "-L2Pt9Cqhhw9"
      },
      "execution_count": 44,
      "outputs": []
    },
    {
      "cell_type": "code",
      "source": [
        "model = Sequential([\n",
        "    Dense(3, activation='relu',input_shape=(X_train[1].shape)),    # input_shape should be given only 1d\n",
        "    Dense(3, activation='softmax')\n",
        "])"
      ],
      "metadata": {
        "id": "OI39V6DqhlXN"
      },
      "execution_count": 45,
      "outputs": []
    },
    {
      "cell_type": "code",
      "source": [
        "model.summary()"
      ],
      "metadata": {
        "id": "G_WHkEE_hntn",
        "colab": {
          "base_uri": "https://localhost:8080/",
          "height": 0
        },
        "outputId": "2d6e2590-598c-4ea4-e954-514c0cf75d67"
      },
      "execution_count": 46,
      "outputs": [
        {
          "output_type": "stream",
          "name": "stdout",
          "text": [
            "Model: \"sequential\"\n",
            "_________________________________________________________________\n",
            " Layer (type)                Output Shape              Param #   \n",
            "=================================================================\n",
            " dense (Dense)               (None, 3)                 30123     \n",
            "                                                                 \n",
            " dense_1 (Dense)             (None, 3)                 12        \n",
            "                                                                 \n",
            "=================================================================\n",
            "Total params: 30,135\n",
            "Trainable params: 30,135\n",
            "Non-trainable params: 0\n",
            "_________________________________________________________________\n"
          ]
        }
      ]
    },
    {
      "cell_type": "code",
      "source": [
        "adam = tf.optimizers.Adam(learning_rate=0.001)\n",
        "\n",
        "model.compile(loss='sparse_categorical_crossentropy',\n",
        "             optimizer = adam,\n",
        "              metrics = ['accuracy']\n",
        "             )"
      ],
      "metadata": {
        "id": "lcklAgiTh-Ms"
      },
      "execution_count": 47,
      "outputs": []
    },
    {
      "cell_type": "code",
      "source": [
        "history = model.fit(X_train,y_train,epochs = 5, verbose = 1)"
      ],
      "metadata": {
        "id": "avL5esG6iEk6",
        "colab": {
          "base_uri": "https://localhost:8080/",
          "height": 0
        },
        "outputId": "660c5143-f648-486a-b380-6c3d8eddb34e"
      },
      "execution_count": 48,
      "outputs": [
        {
          "output_type": "stream",
          "name": "stdout",
          "text": [
            "Epoch 1/5\n",
            "336/336 [==============================] - 3s 6ms/step - loss: 0.9848 - accuracy: 0.6348\n",
            "Epoch 2/5\n",
            "336/336 [==============================] - 2s 6ms/step - loss: 0.6858 - accuracy: 0.6657\n",
            "Epoch 3/5\n",
            "336/336 [==============================] - 2s 6ms/step - loss: 0.4937 - accuracy: 0.7879\n",
            "Epoch 4/5\n",
            "336/336 [==============================] - 2s 6ms/step - loss: 0.3783 - accuracy: 0.9029\n",
            "Epoch 5/5\n",
            "336/336 [==============================] - 2s 5ms/step - loss: 0.3009 - accuracy: 0.9371\n"
          ]
        }
      ]
    },
    {
      "cell_type": "code",
      "source": [
        "import matplotlib.pyplot as plt\n",
        "\n",
        "plt.plot(history.history['loss'], label='train')\n",
        "plt.title('Error Training')\n",
        "plt.ylabel('Loss')\n",
        "plt.xlabel('Pembelajaran (Epochs)')\n",
        "plt.legend()\n",
        "plt.show()"
      ],
      "metadata": {
        "id": "J6ck6dPOzDfr",
        "colab": {
          "base_uri": "https://localhost:8080/",
          "height": 295
        },
        "outputId": "cc7a9a5c-75bf-4ddd-b5f0-fc5ff121c3c1"
      },
      "execution_count": 49,
      "outputs": [
        {
          "output_type": "display_data",
          "data": {
            "text/plain": [
              "<Figure size 432x288 with 1 Axes>"
            ],
            "image/png": "[encoded data removed]"
          },
          "metadata": {
            "needs_background": "light"
          }
        }
      ]
    },
    {
      "cell_type": "code",
      "source": [
        "import matplotlib.pyplot as plt\n",
        "\n",
        "plt.plot(history.history['accuracy'], label='train')\n",
        "plt.title('Accuracy Training')\n",
        "plt.ylabel('Loss')\n",
        "plt.xlabel('Pembelajaran (Epochs)')\n",
        "plt.legend()\n",
        "plt.show()"
      ],
      "metadata": {
        "id": "hnbmuY8jznIl",
        "colab": {
          "base_uri": "https://localhost:8080/",
          "height": 295
        },
        "outputId": "bf03e33f-1d8f-48ce-928f-44bdd0ece6db"
      },
      "execution_count": 50,
      "outputs": [
        {
          "output_type": "display_data",
          "data": {
            "text/plain": [
              "<Figure size 432x288 with 1 Axes>"
            ],
            "image/png": "[encoded data removed]"
          },
          "metadata": {
            "needs_background": "light"
          }
        }
      ]
    },
    {
      "cell_type": "code",
      "source": [
        "y_nn = model.predict(X_test)\n",
        "y_nn[:5]"
      ],
      "metadata": {
        "id": "KRUTsJ6Dz3zG",
        "colab": {
          "base_uri": "https://localhost:8080/",
          "height": 0
        },
        "outputId": "e9d9b0c5-9e81-44d8-9ed2-eaf02dee639a"
      },
      "execution_count": 51,
      "outputs": [
        {
          "output_type": "execute_result",
          "data": {
            "text/plain": [
              "array([[2.9610711e-01, 5.8914983e-01, 1.1474306e-01],\n",
              "       [9.9993408e-01, 3.9662373e-06, 6.1927705e-05],\n",
              "       [9.0858340e-01, 5.6429323e-02, 3.4987245e-02],\n",
              "       [9.9989116e-01, 8.2258011e-06, 1.0066124e-04],\n",
              "       [6.3917226e-01, 2.7212551e-01, 8.8702217e-02]], dtype=float32)"
            ]
          },
          "metadata": {},
          "execution_count": 51
        }
      ]
    },
    {
      "cell_type": "code",
      "source": [
        "testing = model.evaluate(X_test,y_test,verbose=1)"
      ],
      "metadata": {
        "id": "HR4h-WiCiGnL",
        "colab": {
          "base_uri": "https://localhost:8080/",
          "height": 0
        },
        "outputId": "02c80438-92ed-4041-e731-91eb0cd507fb"
      },
      "execution_count": 52,
      "outputs": [
        {
          "output_type": "stream",
          "name": "stdout",
          "text": [
            "84/84 [==============================] - 0s 4ms/step - loss: 0.3928 - accuracy: 0.8742\n"
          ]
        }
      ]
    },
    {
      "cell_type": "code",
      "source": [
        "testing"
      ],
      "metadata": {
        "id": "STdjgtvqiM3A",
        "colab": {
          "base_uri": "https://localhost:8080/",
          "height": 0
        },
        "outputId": "efbe0157-26fd-4562-8477-748b83a64793"
      },
      "execution_count": 53,
      "outputs": [
        {
          "output_type": "execute_result",
          "data": {
            "text/plain": [
              "[0.39283034205436707, 0.8741623163223267]"
            ]
          },
          "metadata": {},
          "execution_count": 53
        }
      ]
    },
    {
      "cell_type": "code",
      "source": [
        "akurasi_nn = testing[1:2]"
      ],
      "metadata": {
        "id": "WzkfiOWF4_aS"
      },
      "execution_count": 54,
      "outputs": []
    },
    {
      "cell_type": "code",
      "source": [
        "print(\"Akurasi Neural Network: \",akurasi_nn)"
      ],
      "metadata": {
        "id": "hec4wTON-SLd",
        "colab": {
          "base_uri": "https://localhost:8080/",
          "height": 0
        },
        "outputId": "c0e8e337-8912-4edb-ab15-6e2e76238476"
      },
      "execution_count": 55,
      "outputs": [
        {
          "output_type": "stream",
          "name": "stdout",
          "text": [
            "Akurasi Neural Network:  [0.8741623163223267]\n"
          ]
        }
      ]
    },
    {
      "cell_type": "markdown",
      "source": [
        "# Consclusion"
      ],
      "metadata": {
        "id": "s6pprhsH9zzS"
      }
    },
    {
      "cell_type": "markdown",
      "source": [
        "Model | Akurasi Model\n",
        "--|--\n",
        "Logistic Regression | 89.35%\n",
        "Decision Tree | 87.63%\n",
        "Random Forest | 88.08%\n",
        "Neural Network | 87.41%"
      ],
      "metadata": {
        "id": "ElKBwSrK9Xmr"
      }
    },
    {
      "cell_type": "markdown",
      "source": [
        "1. Sekalipun ada pengurangan sejumlah data dengan drop baris index, namun akurasi model tampak signifikan dan konstan tidak berubah banyak terhadap eksperimen sebelumnya\n",
        "\n",
        "2. Dari modeling di atas, akurasi dari Logistic Regression diketahui yang tertinggi diantara algoritma yang lain."
      ],
      "metadata": {
        "id": "dgeNLc3MKCpy"
      }
    }
  ],
  "metadata": {
    "colab": {
      "collapsed_sections": [],
      "name": "Google Playstore Modeling",
      "provenance": [],
      "toc_visible": true
    },
    "kernelspec": {
      "display_name": "Python 3",
      "name": "python3"
    },
    "language_info": {
      "name": "python"
    },
    "accelerator": "TPU"
  },
  "nbformat": 4,
  "nbformat_minor": 0
}